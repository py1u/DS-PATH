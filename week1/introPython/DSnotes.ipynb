{
 "cells": [
  {
   "cell_type": "code",
   "execution_count": 1,
   "id": "initial_id",
   "metadata": {
    "collapsed": true,
    "ExecuteTime": {
     "end_time": "2024-06-20T17:26:13.459955500Z",
     "start_time": "2024-06-20T17:26:13.432508900Z"
    }
   },
   "outputs": [
    {
     "name": "stdout",
     "output_type": "stream",
     "text": [
      "hello world\n"
     ]
    }
   ],
   "source": [
    "print(\"hello world\")"
   ]
  },
  {
   "cell_type": "markdown",
   "source": [
    "Variables\n",
    "- int\n",
    "- float\n",
    "- string\n",
    "- boolean"
   ],
   "metadata": {
    "collapsed": false
   },
   "id": "dc13cf62ac912f6b"
  },
  {
   "cell_type": "code",
   "execution_count": 2,
   "outputs": [],
   "source": [
    "a = 2\n",
    "b = 4.5\n",
    "name = \"Peter\"\n",
    "flag = False"
   ],
   "metadata": {
    "collapsed": false,
    "ExecuteTime": {
     "end_time": "2024-06-20T17:28:14.900207600Z",
     "start_time": "2024-06-20T17:28:14.872670200Z"
    }
   },
   "id": "fe83eb61fa4ede32"
  },
  {
   "cell_type": "code",
   "execution_count": 4,
   "outputs": [
    {
     "data": {
      "text/plain": "str"
     },
     "execution_count": 4,
     "metadata": {},
     "output_type": "execute_result"
    }
   ],
   "source": [
    "type(a)\n",
    "a = \"ds\"\n",
    "type(a)"
   ],
   "metadata": {
    "collapsed": false,
    "ExecuteTime": {
     "end_time": "2024-06-20T17:28:40.985823900Z",
     "start_time": "2024-06-20T17:28:40.947368400Z"
    }
   },
   "id": "89e0e476da3dfda1"
  },
  {
   "cell_type": "markdown",
   "source": [
    "reading input from users\n",
    "- input(\"input goes here\")\n",
    "- reads in as a string"
   ],
   "metadata": {
    "collapsed": false
   },
   "id": "1f6ce5553d81f335"
  },
  {
   "cell_type": "code",
   "execution_count": 5,
   "outputs": [
    {
     "data": {
      "text/plain": "'21'"
     },
     "execution_count": 5,
     "metadata": {},
     "output_type": "execute_result"
    }
   ],
   "source": [
    "age_input = input(\"Enter your age: \")\n",
    "age_input"
   ],
   "metadata": {
    "collapsed": false,
    "ExecuteTime": {
     "end_time": "2024-06-20T17:32:56.107418900Z",
     "start_time": "2024-06-20T17:32:52.282404300Z"
    }
   },
   "id": "19dea3012aad712c"
  },
  {
   "cell_type": "markdown",
   "source": [
    "cast the string into a integer\n",
    "- int()\n",
    "- float()\n",
    "- str()"
   ],
   "metadata": {
    "collapsed": false
   },
   "id": "ae44404da7af9148"
  },
  {
   "cell_type": "code",
   "execution_count": 6,
   "outputs": [
    {
     "data": {
      "text/plain": "21"
     },
     "execution_count": 6,
     "metadata": {},
     "output_type": "execute_result"
    }
   ],
   "source": [
    "age_input = int(age_input)\n",
    "age_input"
   ],
   "metadata": {
    "collapsed": false,
    "ExecuteTime": {
     "end_time": "2024-06-20T17:34:24.853805700Z",
     "start_time": "2024-06-20T17:34:24.810167400Z"
    }
   },
   "id": "557dba1ed1f24077"
  },
  {
   "cell_type": "markdown",
   "source": [
    "Lists\n",
    "- a collection of items, array of objects\n",
    "- lists are postionally indexed or ordered\n",
    "- indexing starts from 0\n",
    "- types don't have to be the same"
   ],
   "metadata": {
    "collapsed": false
   },
   "id": "10df436260199dee"
  },
  {
   "cell_type": "code",
   "execution_count": 8,
   "outputs": [
    {
     "data": {
      "text/plain": "['Peter', 21, True]"
     },
     "execution_count": 8,
     "metadata": {},
     "output_type": "execute_result"
    }
   ],
   "source": [
    "myList = [\"Peter\", 21, True]\n",
    "myList"
   ],
   "metadata": {
    "collapsed": false,
    "ExecuteTime": {
     "end_time": "2024-06-20T17:36:33.199539600Z",
     "start_time": "2024-06-20T17:36:33.164277900Z"
    }
   },
   "id": "a785785c79cf474b"
  },
  {
   "cell_type": "code",
   "execution_count": 10,
   "outputs": [
    {
     "name": "stdout",
     "output_type": "stream",
     "text": [
      "Peter\n",
      "21\n",
      "True\n"
     ]
    }
   ],
   "source": [
    "print(myList[0])\n",
    "print(myList[1])\n",
    "print(myList[2])"
   ],
   "metadata": {
    "collapsed": false,
    "ExecuteTime": {
     "end_time": "2024-06-20T17:37:50.931173200Z",
     "start_time": "2024-06-20T17:37:50.890312100Z"
    }
   },
   "id": "57fd20b535c84b76"
  },
  {
   "cell_type": "markdown",
   "source": [
    "List slicing\n",
    "- access a start and end point\n",
    "- Listname[start:end]\n",
    "- does not include the end\n",
    "- input: [0:2]\n",
    "- out: ['Peter', 21] not including True\n",
    "- shorthand [:2], [2:], [:]"
   ],
   "metadata": {
    "collapsed": false
   },
   "id": "75c54cebc7544f4b"
  },
  {
   "cell_type": "code",
   "execution_count": 11,
   "outputs": [
    {
     "data": {
      "text/plain": "['Peter', 21]"
     },
     "execution_count": 11,
     "metadata": {},
     "output_type": "execute_result"
    }
   ],
   "source": [
    "myList[0:2]"
   ],
   "metadata": {
    "collapsed": false,
    "ExecuteTime": {
     "end_time": "2024-06-20T17:39:17.129037100Z",
     "start_time": "2024-06-20T17:39:17.089240100Z"
    }
   },
   "id": "e2a01d97157efeac"
  },
  {
   "cell_type": "markdown",
   "source": [
    "List length\n",
    "- len()"
   ],
   "metadata": {
    "collapsed": false
   },
   "id": "4447d2afa559127c"
  },
  {
   "cell_type": "code",
   "execution_count": 12,
   "outputs": [
    {
     "data": {
      "text/plain": "3"
     },
     "execution_count": 12,
     "metadata": {},
     "output_type": "execute_result"
    }
   ],
   "source": [
    "len(myList)"
   ],
   "metadata": {
    "collapsed": false,
    "ExecuteTime": {
     "end_time": "2024-06-20T17:40:42.569394500Z",
     "start_time": "2024-06-20T17:40:42.509514200Z"
    }
   },
   "id": "809cbe45c9e137e5"
  },
  {
   "cell_type": "markdown",
   "source": [
    "Dictionary\n",
    "- collection of key-value pairs\n",
    "- maps and saves pairs"
   ],
   "metadata": {
    "collapsed": false
   },
   "id": "2c924b937f47317"
  },
  {
   "cell_type": "code",
   "execution_count": 15,
   "outputs": [
    {
     "data": {
      "text/plain": "{'Alice': 100, 'Bob': 100, 'Charlie': 100}"
     },
     "execution_count": 15,
     "metadata": {},
     "output_type": "execute_result"
    }
   ],
   "source": [
    "grade = {'Alice' : 100,\n",
    "         'Bob' : 100,\n",
    "         'Charlie' : 100}\n",
    "grade"
   ],
   "metadata": {
    "collapsed": false,
    "ExecuteTime": {
     "end_time": "2024-06-20T17:42:39.965688400Z",
     "start_time": "2024-06-20T17:42:39.916965300Z"
    }
   },
   "id": "dab19707fe5e5602"
  },
  {
   "cell_type": "code",
   "execution_count": 17,
   "outputs": [
    {
     "data": {
      "text/plain": "dict_keys(['Alice', 'Bob', 'Charlie'])"
     },
     "execution_count": 17,
     "metadata": {},
     "output_type": "execute_result"
    }
   ],
   "source": [
    "grade.keys()"
   ],
   "metadata": {
    "collapsed": false,
    "ExecuteTime": {
     "end_time": "2024-06-20T17:43:25.431720500Z",
     "start_time": "2024-06-20T17:43:25.408943400Z"
    }
   },
   "id": "15925180bb38c812"
  },
  {
   "cell_type": "code",
   "execution_count": 18,
   "outputs": [
    {
     "data": {
      "text/plain": "dict_values([100, 100, 100])"
     },
     "execution_count": 18,
     "metadata": {},
     "output_type": "execute_result"
    }
   ],
   "source": [
    "grade.values()"
   ],
   "metadata": {
    "collapsed": false,
    "ExecuteTime": {
     "end_time": "2024-06-20T17:43:33.358950600Z",
     "start_time": "2024-06-20T17:43:33.327044100Z"
    }
   },
   "id": "1381d4f1be598a1a"
  },
  {
   "cell_type": "markdown",
   "source": [
    "accessing a value using a key"
   ],
   "metadata": {
    "collapsed": false
   },
   "id": "114df18f83f10774"
  },
  {
   "cell_type": "code",
   "execution_count": 19,
   "outputs": [
    {
     "data": {
      "text/plain": "100"
     },
     "execution_count": 19,
     "metadata": {},
     "output_type": "execute_result"
    }
   ],
   "source": [
    "alice_grade = grade['Alice']\n",
    "alice_grade"
   ],
   "metadata": {
    "collapsed": false,
    "ExecuteTime": {
     "end_time": "2024-06-20T17:44:29.491518800Z",
     "start_time": "2024-06-20T17:44:29.455066500Z"
    }
   },
   "id": "d372aec48cb626a7"
  },
  {
   "cell_type": "markdown",
   "source": [
    "adding to dictionary"
   ],
   "metadata": {
    "collapsed": false
   },
   "id": "42ad9412361c9944"
  },
  {
   "cell_type": "code",
   "execution_count": 20,
   "outputs": [],
   "source": [
    "grade['Sarah'] = 95\n",
    "grade['Tim'] = 'na'"
   ],
   "metadata": {
    "collapsed": false,
    "ExecuteTime": {
     "end_time": "2024-06-20T17:45:48.652459900Z",
     "start_time": "2024-06-20T17:45:48.620005300Z"
    }
   },
   "id": "85d62187f979ddce"
  },
  {
   "cell_type": "markdown",
   "source": [],
   "metadata": {
    "collapsed": false
   },
   "id": "2caaf10a7dbfb72a"
  },
  {
   "cell_type": "code",
   "execution_count": 21,
   "outputs": [
    {
     "data": {
      "text/plain": "{'Alice': 100, 'Bob': 100, 'Charlie': 100, 'Sarah': 95, 'Tim': 'na'}"
     },
     "execution_count": 21,
     "metadata": {},
     "output_type": "execute_result"
    }
   ],
   "source": [
    "grade"
   ],
   "metadata": {
    "collapsed": false,
    "ExecuteTime": {
     "end_time": "2024-06-20T17:45:51.362776700Z",
     "start_time": "2024-06-20T17:45:51.320986300Z"
    }
   },
   "id": "b37a6a6191fc649e"
  },
  {
   "cell_type": "markdown",
   "source": [
    "Conditionals\n",
    "-if, elif, else\n",
    "-indentation and blank space matters in python"
   ],
   "metadata": {
    "collapsed": false
   },
   "id": "8017d15d9e3de4f2"
  },
  {
   "cell_type": "code",
   "execution_count": 24,
   "outputs": [
    {
     "name": "stdout",
     "output_type": "stream",
     "text": [
      "perfect score\n",
      "not perfect score\n"
     ]
    }
   ],
   "source": [
    "if grade['Bob'] == 100:\n",
    "    print(\"perfect score\")\n",
    "    \n",
    "grade['Sarah'] = 90\n",
    "grade\n",
    "\n",
    "if grade['Sarah'] == 100:\n",
    "    print(\"perfect score\")\n",
    "elif grade['Sarah'] == 90:\n",
    "    print(\"not perfect score\")\n",
    "else:\n",
    "    print(\"no score\")"
   ],
   "metadata": {
    "collapsed": false,
    "ExecuteTime": {
     "end_time": "2024-06-20T17:56:38.359276800Z",
     "start_time": "2024-06-20T17:56:38.339034400Z"
    }
   },
   "id": "51bae16e2c396d36"
  },
  {
   "cell_type": "markdown",
   "source": [
    "Loops\n",
    "- while and for loops\n",
    "- while loops as long as the condition is met\n",
    "- for loops are finite range defined"
   ],
   "metadata": {
    "collapsed": false
   },
   "id": "f4b166fcadc69a95"
  },
  {
   "cell_type": "code",
   "execution_count": 30,
   "outputs": [
    {
     "name": "stdout",
     "output_type": "stream",
     "text": [
      "1\n",
      "2\n",
      "3\n",
      "4\n",
      "5\n"
     ]
    }
   ],
   "source": [
    "limit = 5\n",
    "i = 1\n",
    "while i <= limit:\n",
    "    print(i)\n",
    "    i += 1"
   ],
   "metadata": {
    "collapsed": false,
    "ExecuteTime": {
     "end_time": "2024-06-20T17:59:04.831050400Z",
     "start_time": "2024-06-20T17:59:04.811317300Z"
    }
   },
   "id": "a2917f817501c954"
  },
  {
   "cell_type": "code",
   "execution_count": 32,
   "outputs": [
    {
     "name": "stdout",
     "output_type": "stream",
     "text": [
      "quit\n"
     ]
    }
   ],
   "source": [
    "user_input = input()\n",
    "while user_input != \"quit\":\n",
    "    user_input = input()\n",
    "print(user_input)"
   ],
   "metadata": {
    "collapsed": false,
    "ExecuteTime": {
     "end_time": "2024-06-20T18:00:08.127393900Z",
     "start_time": "2024-06-20T18:00:03.819645Z"
    }
   },
   "id": "c2001d55b0aa004d"
  },
  {
   "cell_type": "markdown",
   "source": [
    "range() defines a including, not including range"
   ],
   "metadata": {
    "collapsed": false
   },
   "id": "a8244e071c867b1f"
  },
  {
   "cell_type": "code",
   "execution_count": 34,
   "outputs": [
    {
     "name": "stdout",
     "output_type": "stream",
     "text": [
      "0\n",
      "1\n",
      "2\n",
      "3\n",
      "4\n",
      "5\n",
      "6\n",
      "7\n",
      "8\n",
      "9\n"
     ]
    }
   ],
   "source": [
    "for i in range(0,10):\n",
    "    print(i)"
   ],
   "metadata": {
    "collapsed": false,
    "ExecuteTime": {
     "end_time": "2024-06-20T18:01:47.671498200Z",
     "start_time": "2024-06-20T18:01:47.649513600Z"
    }
   },
   "id": "39ec53fe7323b570"
  },
  {
   "cell_type": "code",
   "execution_count": 35,
   "outputs": [
    {
     "data": {
      "text/plain": "[0, 1, 2, 3, 4, 5, 6, 7, 8, 9]"
     },
     "execution_count": 35,
     "metadata": {},
     "output_type": "execute_result"
    }
   ],
   "source": [
    "list(range(0,10))\n"
   ],
   "metadata": {
    "collapsed": false,
    "ExecuteTime": {
     "end_time": "2024-06-20T18:01:50.939239800Z",
     "start_time": "2024-06-20T18:01:50.877689500Z"
    }
   },
   "id": "56b62f8953fb7fd8"
  },
  {
   "cell_type": "code",
   "execution_count": 36,
   "outputs": [
    {
     "data": {
      "text/plain": "[0, 2, 4, 6, 8]"
     },
     "execution_count": 36,
     "metadata": {},
     "output_type": "execute_result"
    }
   ],
   "source": [
    "list(range(0,10,2))\n"
   ],
   "metadata": {
    "collapsed": false,
    "ExecuteTime": {
     "end_time": "2024-06-20T18:02:28.286109900Z",
     "start_time": "2024-06-20T18:02:28.232720300Z"
    }
   },
   "id": "2da1ca222e3b27dd"
  },
  {
   "cell_type": "code",
   "execution_count": 37,
   "outputs": [
    {
     "data": {
      "text/plain": "[3, 2, 1]"
     },
     "execution_count": 37,
     "metadata": {},
     "output_type": "execute_result"
    }
   ],
   "source": [
    "list(range(3,0,-1))\n"
   ],
   "metadata": {
    "collapsed": false,
    "ExecuteTime": {
     "end_time": "2024-06-20T18:02:41.282852300Z",
     "start_time": "2024-06-20T18:02:41.245082400Z"
    }
   },
   "id": "aafb1c135c91335"
  },
  {
   "cell_type": "code",
   "execution_count": null,
   "outputs": [],
   "source": [],
   "metadata": {
    "collapsed": false
   },
   "id": "63883c0fd0782521"
  }
 ],
 "metadata": {
  "kernelspec": {
   "display_name": "Python 3",
   "language": "python",
   "name": "python3"
  },
  "language_info": {
   "codemirror_mode": {
    "name": "ipython",
    "version": 2
   },
   "file_extension": ".py",
   "mimetype": "text/x-python",
   "name": "python",
   "nbconvert_exporter": "python",
   "pygments_lexer": "ipython2",
   "version": "2.7.6"
  }
 },
 "nbformat": 4,
 "nbformat_minor": 5
}
