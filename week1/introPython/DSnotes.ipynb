{
 "cells": [
  {
   "cell_type": "code",
   "execution_count": 90,
   "id": "initial_id",
   "metadata": {
    "collapsed": true,
    "ExecuteTime": {
     "end_time": "2024-06-20T20:33:53.603031500Z",
     "start_time": "2024-06-20T20:33:52.913905600Z"
    }
   },
   "outputs": [
    {
     "name": "stdout",
     "output_type": "stream",
     "text": [
      "hello world\n"
     ]
    }
   ],
   "source": [
    "print(\"hello world\")"
   ]
  },
  {
   "cell_type": "markdown",
   "source": [
    "Variables\n",
    "- int\n",
    "- float\n",
    "- string\n",
    "- boolean"
   ],
   "metadata": {
    "collapsed": false
   },
   "id": "dc13cf62ac912f6b"
  },
  {
   "cell_type": "code",
   "execution_count": 91,
   "outputs": [],
   "source": [
    "a = 2\n",
    "b = 4.5\n",
    "name = \"Peter\"\n",
    "flag = False"
   ],
   "metadata": {
    "collapsed": false,
    "ExecuteTime": {
     "end_time": "2024-06-20T20:33:54.107147600Z",
     "start_time": "2024-06-20T20:33:52.960587800Z"
    }
   },
   "id": "fe83eb61fa4ede32"
  },
  {
   "cell_type": "code",
   "execution_count": 92,
   "outputs": [
    {
     "data": {
      "text/plain": "str"
     },
     "execution_count": 92,
     "metadata": {},
     "output_type": "execute_result"
    }
   ],
   "source": [
    "type(a)\n",
    "a = \"ds\"\n",
    "type(a)"
   ],
   "metadata": {
    "collapsed": false,
    "ExecuteTime": {
     "end_time": "2024-06-20T20:33:54.126167100Z",
     "start_time": "2024-06-20T20:33:52.969467900Z"
    }
   },
   "id": "89e0e476da3dfda1"
  },
  {
   "cell_type": "markdown",
   "source": [
    "reading input from users\n",
    "- input(\"input goes here\")\n",
    "- reads in as a string"
   ],
   "metadata": {
    "collapsed": false
   },
   "id": "1f6ce5553d81f335"
  },
  {
   "cell_type": "code",
   "execution_count": 93,
   "outputs": [
    {
     "data": {
      "text/plain": "'Peter'"
     },
     "execution_count": 93,
     "metadata": {},
     "output_type": "execute_result"
    }
   ],
   "source": [
    "age_input = input(\"Enter your age: \")\n",
    "age_input"
   ],
   "metadata": {
    "collapsed": false,
    "ExecuteTime": {
     "end_time": "2024-06-20T20:33:58.623343400Z",
     "start_time": "2024-06-20T20:33:52.994895500Z"
    }
   },
   "id": "19dea3012aad712c"
  },
  {
   "cell_type": "markdown",
   "source": [
    "cast the string into a integer\n",
    "- int()\n",
    "- float()\n",
    "- str()"
   ],
   "metadata": {
    "collapsed": false
   },
   "id": "ae44404da7af9148"
  },
  {
   "cell_type": "code",
   "execution_count": 94,
   "outputs": [
    {
     "ename": "ValueError",
     "evalue": "invalid literal for int() with base 10: 'Peter'",
     "output_type": "error",
     "traceback": [
      "\u001B[1;31m---------------------------------------------------------------------------\u001B[0m",
      "\u001B[1;31mValueError\u001B[0m                                Traceback (most recent call last)",
      "Cell \u001B[1;32mIn[94], line 1\u001B[0m\n\u001B[1;32m----> 1\u001B[0m age_input \u001B[38;5;241m=\u001B[39m \u001B[38;5;28;43mint\u001B[39;49m\u001B[43m(\u001B[49m\u001B[43mage_input\u001B[49m\u001B[43m)\u001B[49m\n\u001B[0;32m      2\u001B[0m age_input\n",
      "\u001B[1;31mValueError\u001B[0m: invalid literal for int() with base 10: 'Peter'"
     ]
    }
   ],
   "source": [
    "age_input = int(age_input)\n",
    "age_input"
   ],
   "metadata": {
    "collapsed": false,
    "ExecuteTime": {
     "end_time": "2024-06-20T20:33:58.624343500Z",
     "start_time": "2024-06-20T20:33:57.684535Z"
    }
   },
   "id": "557dba1ed1f24077"
  },
  {
   "cell_type": "markdown",
   "source": [
    "Lists\n",
    "- a collection of items, array of objects\n",
    "- lists are postionally indexed or ordered\n",
    "- indexing starts from 0\n",
    "- types don't have to be the same"
   ],
   "metadata": {
    "collapsed": false
   },
   "id": "10df436260199dee"
  },
  {
   "cell_type": "code",
   "execution_count": null,
   "outputs": [],
   "source": [
    "myList = [\"Peter\", 21, True]\n",
    "myList"
   ],
   "metadata": {
    "collapsed": false,
    "ExecuteTime": {
     "start_time": "2024-06-20T20:33:57.715122600Z"
    }
   },
   "id": "a785785c79cf474b"
  },
  {
   "cell_type": "code",
   "execution_count": null,
   "outputs": [],
   "source": [
    "print(myList[0])\n",
    "print(myList[1])\n",
    "print(myList[2])"
   ],
   "metadata": {
    "collapsed": false,
    "ExecuteTime": {
     "start_time": "2024-06-20T20:33:57.719123Z"
    }
   },
   "id": "57fd20b535c84b76"
  },
  {
   "cell_type": "markdown",
   "source": [
    "List slicing\n",
    "- access a start and end point\n",
    "- Listname[start:end]\n",
    "- does not include the end\n",
    "- input: [0:2]\n",
    "- out: ['Peter', 21] not including True\n",
    "- shorthand [:2], [2:], [:]"
   ],
   "metadata": {
    "collapsed": false
   },
   "id": "75c54cebc7544f4b"
  },
  {
   "cell_type": "code",
   "execution_count": null,
   "outputs": [],
   "source": [
    "myList[0:2]"
   ],
   "metadata": {
    "collapsed": false,
    "ExecuteTime": {
     "start_time": "2024-06-20T20:33:57.723124100Z"
    }
   },
   "id": "e2a01d97157efeac"
  },
  {
   "cell_type": "markdown",
   "source": [
    "List length\n",
    "- len()"
   ],
   "metadata": {
    "collapsed": false
   },
   "id": "4447d2afa559127c"
  },
  {
   "cell_type": "code",
   "execution_count": null,
   "outputs": [],
   "source": [
    "len(myList)"
   ],
   "metadata": {
    "collapsed": false,
    "ExecuteTime": {
     "start_time": "2024-06-20T20:33:57.727125400Z"
    }
   },
   "id": "809cbe45c9e137e5"
  },
  {
   "cell_type": "markdown",
   "source": [
    "Dictionary\n",
    "- collection of key-value pairs\n",
    "- maps and saves pairs"
   ],
   "metadata": {
    "collapsed": false
   },
   "id": "2c924b937f47317"
  },
  {
   "cell_type": "code",
   "execution_count": null,
   "outputs": [],
   "source": [
    "grade = {'Alice' : 100,\n",
    "         'Bob' : 100,\n",
    "         'Charlie' : 100}\n",
    "grade"
   ],
   "metadata": {
    "collapsed": false,
    "ExecuteTime": {
     "start_time": "2024-06-20T20:33:57.730125700Z"
    }
   },
   "id": "dab19707fe5e5602"
  },
  {
   "cell_type": "code",
   "execution_count": null,
   "outputs": [],
   "source": [
    "grade.keys()"
   ],
   "metadata": {
    "collapsed": false,
    "ExecuteTime": {
     "start_time": "2024-06-20T20:33:57.734126Z"
    }
   },
   "id": "15925180bb38c812"
  },
  {
   "cell_type": "code",
   "execution_count": null,
   "outputs": [],
   "source": [
    "grade.values()"
   ],
   "metadata": {
    "collapsed": false,
    "ExecuteTime": {
     "start_time": "2024-06-20T20:33:57.739127600Z"
    }
   },
   "id": "1381d4f1be598a1a"
  },
  {
   "cell_type": "markdown",
   "source": [
    "accessing a value using a key"
   ],
   "metadata": {
    "collapsed": false
   },
   "id": "114df18f83f10774"
  },
  {
   "cell_type": "code",
   "execution_count": null,
   "outputs": [],
   "source": [
    "alice_grade = grade['Alice']\n",
    "alice_grade"
   ],
   "metadata": {
    "collapsed": false,
    "ExecuteTime": {
     "start_time": "2024-06-20T20:33:57.743129300Z"
    }
   },
   "id": "d372aec48cb626a7"
  },
  {
   "cell_type": "markdown",
   "source": [
    "adding to dictionary"
   ],
   "metadata": {
    "collapsed": false
   },
   "id": "42ad9412361c9944"
  },
  {
   "cell_type": "code",
   "execution_count": null,
   "outputs": [],
   "source": [
    "grade['Sarah'] = 95\n",
    "grade['Tim'] = 'na'"
   ],
   "metadata": {
    "collapsed": false,
    "ExecuteTime": {
     "start_time": "2024-06-20T20:33:57.748130100Z"
    }
   },
   "id": "85d62187f979ddce"
  },
  {
   "cell_type": "markdown",
   "source": [],
   "metadata": {
    "collapsed": false
   },
   "id": "2caaf10a7dbfb72a"
  },
  {
   "cell_type": "code",
   "execution_count": null,
   "outputs": [],
   "source": [
    "grade"
   ],
   "metadata": {
    "collapsed": false,
    "ExecuteTime": {
     "start_time": "2024-06-20T20:33:57.752133600Z"
    }
   },
   "id": "b37a6a6191fc649e"
  },
  {
   "cell_type": "markdown",
   "source": [
    "Conditionals\n",
    "-if, elif, else\n",
    "-indentation and blank space matters in python"
   ],
   "metadata": {
    "collapsed": false
   },
   "id": "8017d15d9e3de4f2"
  },
  {
   "cell_type": "code",
   "execution_count": null,
   "outputs": [],
   "source": [
    "if grade['Bob'] == 100:\n",
    "    print(\"perfect score\")\n",
    "    \n",
    "grade['Sarah'] = 90\n",
    "grade\n",
    "\n",
    "if grade['Sarah'] == 100:\n",
    "    print(\"perfect score\")\n",
    "elif grade['Sarah'] == 90:\n",
    "    print(\"not perfect score\")\n",
    "else:\n",
    "    print(\"no score\")"
   ],
   "metadata": {
    "collapsed": false,
    "ExecuteTime": {
     "start_time": "2024-06-20T20:33:57.755133600Z"
    }
   },
   "id": "51bae16e2c396d36"
  },
  {
   "cell_type": "markdown",
   "source": [
    "Loops\n",
    "- while and for loops\n",
    "- while loops as long as the condition is met\n",
    "- for loops are finite range defined"
   ],
   "metadata": {
    "collapsed": false
   },
   "id": "f4b166fcadc69a95"
  },
  {
   "cell_type": "code",
   "execution_count": null,
   "outputs": [],
   "source": [
    "limit = 5\n",
    "i = 1\n",
    "while i <= limit:\n",
    "    print(i)\n",
    "    i += 1"
   ],
   "metadata": {
    "collapsed": false,
    "ExecuteTime": {
     "start_time": "2024-06-20T20:33:57.759134700Z"
    }
   },
   "id": "a2917f817501c954"
  },
  {
   "cell_type": "code",
   "execution_count": null,
   "outputs": [],
   "source": [
    "user_input = input()\n",
    "while user_input != \"quit\":\n",
    "    user_input = input()\n",
    "print(user_input)"
   ],
   "metadata": {
    "collapsed": false,
    "ExecuteTime": {
     "start_time": "2024-06-20T20:33:57.762135200Z"
    }
   },
   "id": "c2001d55b0aa004d"
  },
  {
   "cell_type": "markdown",
   "source": [
    "range() defines a including, not including range"
   ],
   "metadata": {
    "collapsed": false
   },
   "id": "a8244e071c867b1f"
  },
  {
   "cell_type": "code",
   "execution_count": null,
   "outputs": [],
   "source": [
    "for i in range(0,10):\n",
    "    print(i)"
   ],
   "metadata": {
    "collapsed": false,
    "ExecuteTime": {
     "start_time": "2024-06-20T20:33:57.766148200Z"
    }
   },
   "id": "39ec53fe7323b570"
  },
  {
   "cell_type": "code",
   "execution_count": null,
   "outputs": [],
   "source": [
    "list(range(0,10))\n"
   ],
   "metadata": {
    "collapsed": false,
    "ExecuteTime": {
     "start_time": "2024-06-20T20:33:57.769137700Z"
    }
   },
   "id": "56b62f8953fb7fd8"
  },
  {
   "cell_type": "code",
   "execution_count": null,
   "outputs": [],
   "source": [
    "list(range(0,10,2))\n"
   ],
   "metadata": {
    "collapsed": false,
    "ExecuteTime": {
     "start_time": "2024-06-20T20:33:57.772136600Z"
    }
   },
   "id": "2da1ca222e3b27dd"
  },
  {
   "cell_type": "code",
   "execution_count": null,
   "outputs": [],
   "source": [
    "list(range(3,0,-1))\n"
   ],
   "metadata": {
    "collapsed": false,
    "ExecuteTime": {
     "start_time": "2024-06-20T20:33:57.776141800Z"
    }
   },
   "id": "aafb1c135c91335"
  },
  {
   "cell_type": "markdown",
   "source": [
    "- looping dictionaries by default are displaying the keys"
   ],
   "metadata": {
    "collapsed": false
   },
   "id": "6cfa8f25e2e7147"
  },
  {
   "cell_type": "code",
   "execution_count": null,
   "outputs": [],
   "source": [
    "for value in grade:\n",
    "    print(value)"
   ],
   "metadata": {
    "collapsed": false,
    "ExecuteTime": {
     "start_time": "2024-06-20T20:33:57.779136300Z"
    }
   },
   "id": "63883c0fd0782521"
  },
  {
   "cell_type": "code",
   "execution_count": null,
   "outputs": [],
   "source": [
    "for value in grade:\n",
    "    print(str(grade[value]))"
   ],
   "metadata": {
    "collapsed": false,
    "ExecuteTime": {
     "start_time": "2024-06-20T20:33:57.782137300Z"
    }
   },
   "id": "881a3b7741c3ea9b"
  },
  {
   "cell_type": "markdown",
   "source": [
    "functions\n",
    "- block of code that performs a specific task\n",
    "- can we called many times so we dont have to write code again\n",
    "- \n",
    "- def functionName (param1, param2, ..):\n",
    "    statement\n",
    "    ...\n",
    "    return result"
   ],
   "metadata": {
    "collapsed": false
   },
   "id": "9fc94e08e7129bc3"
  },
  {
   "cell_type": "code",
   "execution_count": null,
   "outputs": [],
   "source": [
    "# function declaration\n",
    "def greet(name):\n",
    "    return f\"Hello {name}!\"\n",
    "\n",
    "# function call\n",
    "name = input(\"What is your name?\")\n",
    "greet(name)"
   ],
   "metadata": {
    "collapsed": false,
    "ExecuteTime": {
     "start_time": "2024-06-20T20:33:57.785137700Z"
    }
   },
   "id": "9549e22597983e11"
  },
  {
   "cell_type": "markdown",
   "source": [
    "- remember to use a return statement or a function will return none"
   ],
   "metadata": {
    "collapsed": false
   },
   "id": "9a0ecd110027a89f"
  },
  {
   "cell_type": "code",
   "execution_count": null,
   "outputs": [],
   "source": [
    "def avg(a,b):\n",
    "    average = (a + b)/2\n",
    "    # return average"
   ],
   "metadata": {
    "collapsed": false,
    "ExecuteTime": {
     "start_time": "2024-06-20T20:33:57.789139900Z"
    }
   },
   "id": "72fedc581ff5cc8c"
  },
  {
   "cell_type": "code",
   "execution_count": null,
   "outputs": [],
   "source": [
    "avg(2,3)"
   ],
   "metadata": {
    "collapsed": false,
    "ExecuteTime": {
     "start_time": "2024-06-20T20:33:57.793139900Z"
    }
   },
   "id": "595b3cb7b64597e8"
  },
  {
   "cell_type": "code",
   "execution_count": null,
   "outputs": [],
   "source": [
    "x = avg(4,5)\n",
    "print(x)"
   ],
   "metadata": {
    "collapsed": false,
    "ExecuteTime": {
     "start_time": "2024-06-20T20:33:57.797140600Z"
    }
   },
   "id": "28f202a9b1ad89a3"
  },
  {
   "cell_type": "markdown",
   "source": [
    "- here is a correct example:"
   ],
   "metadata": {
    "collapsed": false
   },
   "id": "49fdca00cd210ba4"
  },
  {
   "cell_type": "code",
   "execution_count": null,
   "outputs": [],
   "source": [
    "def avg(a,b):\n",
    "    average = (a + b)/2\n",
    "    return average \n",
    "\n",
    "x = avg(80,95)\n",
    "if x > 90:\n",
    "    print(\"grade is A\")\n",
    "elif x > 80:\n",
    "    print(\"grade is B\")"
   ],
   "metadata": {
    "collapsed": false,
    "ExecuteTime": {
     "start_time": "2024-06-20T20:33:57.800141400Z"
    }
   },
   "id": "10708cac5d9df362"
  },
  {
   "cell_type": "markdown",
   "source": [
    "Mini Project 1\n",
    "- Create a Calculator App using what we have learned with functions\n",
    "- "
   ],
   "metadata": {
    "collapsed": false
   },
   "id": "cd11605cb443f74d"
  },
  {
   "cell_type": "code",
   "execution_count": null,
   "outputs": [],
   "source": [],
   "metadata": {
    "collapsed": false,
    "ExecuteTime": {
     "start_time": "2024-06-20T20:33:57.803142400Z"
    }
   },
   "id": "6be43d18ad74e0a2"
  },
  {
   "cell_type": "markdown",
   "source": [
    "Python and Data Science\n",
    "- using python and working with data\n",
    "- loading data, clean, summarize, visualize, transfer, explore\n"
   ],
   "metadata": {
    "collapsed": false
   },
   "id": "b24d78aa96306036"
  },
  {
   "cell_type": "markdown",
   "source": [
    "DataFrame\n",
    "- 2D labeled table \n",
    "- rows, columns\n",
    "- access and transform our data"
   ],
   "metadata": {
    "collapsed": false
   },
   "id": "b97cf646acb176ea"
  },
  {
   "cell_type": "code",
   "execution_count": null,
   "outputs": [],
   "source": [
    "import pandas as pd\n",
    "df = pd.read_csv('data/titanic.csv')\n",
    "df.head()"
   ],
   "metadata": {
    "collapsed": false,
    "ExecuteTime": {
     "start_time": "2024-06-20T20:33:57.805142500Z"
    }
   },
   "id": "3884ca7ac3238e0f"
  },
  {
   "cell_type": "code",
   "execution_count": null,
   "outputs": [],
   "source": [
    "# getting the last 10 rows of data\n",
    "df.tail(10)"
   ],
   "metadata": {
    "collapsed": false,
    "ExecuteTime": {
     "start_time": "2024-06-20T20:33:57.808142900Z"
    }
   },
   "id": "48cd69a90235f9e8"
  },
  {
   "cell_type": "code",
   "execution_count": null,
   "outputs": [],
   "source": [
    "df['name']"
   ],
   "metadata": {
    "collapsed": false,
    "ExecuteTime": {
     "start_time": "2024-06-20T20:33:57.810143500Z"
    }
   },
   "id": "b96dc204c015731e"
  },
  {
   "cell_type": "code",
   "execution_count": null,
   "outputs": [],
   "source": [
    "df_by_name = df.set_index(\"name\")\n",
    "df_by_name"
   ],
   "metadata": {
    "collapsed": false,
    "ExecuteTime": {
     "start_time": "2024-06-20T20:33:57.812143900Z"
    }
   },
   "id": "354d97e5a8558a04"
  },
  {
   "cell_type": "code",
   "execution_count": null,
   "outputs": [],
   "source": [
    "df.ticket"
   ],
   "metadata": {
    "collapsed": false,
    "ExecuteTime": {
     "start_time": "2024-06-20T20:33:57.814144Z"
    }
   },
   "id": "d97a0be12bda989f"
  },
  {
   "cell_type": "code",
   "execution_count": null,
   "outputs": [],
   "source": [
    "name = ['Allison, Mrs. Hudson J C (Bessie Waldo Daniels)']\n",
    "df_by_name.loc[name]"
   ],
   "metadata": {
    "collapsed": false,
    "ExecuteTime": {
     "start_time": "2024-06-20T20:33:57.817144500Z"
    }
   },
   "id": "e7776ea347a5539d"
  },
  {
   "cell_type": "code",
   "execution_count": null,
   "outputs": [],
   "source": [
    "nameList = ['Allison, Mrs. Hudson J C (Bessie Waldo Daniels)', 'Allison, Miss. Helen Loraine']\n",
    "df_by_name.loc[nameList]"
   ],
   "metadata": {
    "collapsed": false,
    "ExecuteTime": {
     "start_time": "2024-06-20T20:33:57.819145100Z"
    }
   },
   "id": "1dcea2bfe2fb39b0"
  },
  {
   "cell_type": "code",
   "execution_count": null,
   "outputs": [],
   "source": [
    "    df[['age', 'name']]"
   ],
   "metadata": {
    "collapsed": false,
    "ExecuteTime": {
     "start_time": "2024-06-20T20:33:57.821151300Z"
    }
   },
   "id": "a076eff9d04e0d45"
  },
  {
   "cell_type": "code",
   "execution_count": null,
   "outputs": [],
   "source": [
    "to_drop = ['boat', 'sibsp']\n",
    "df.drop(to_drop, inplace = True, axis=1)"
   ],
   "metadata": {
    "collapsed": false,
    "ExecuteTime": {
     "start_time": "2024-06-20T20:33:57.824146100Z"
    }
   },
   "id": "1da12a32e4350aca"
  },
  {
   "cell_type": "code",
   "execution_count": null,
   "outputs": [],
   "source": [
    "df.duplicated()"
   ],
   "metadata": {
    "collapsed": false,
    "ExecuteTime": {
     "start_time": "2024-06-20T20:33:57.826146400Z"
    }
   },
   "id": "f49fc7e0069defca"
  },
  {
   "cell_type": "markdown",
   "source": [
    "0 is false\n",
    "1 is true\n"
   ],
   "metadata": {
    "collapsed": false
   },
   "id": "50cbd8d560fe31c2"
  },
  {
   "cell_type": "code",
   "execution_count": null,
   "outputs": [],
   "source": [
    "duplicates = df.duplicated()\n",
    "duplicates.value_counts()"
   ],
   "metadata": {
    "collapsed": false,
    "ExecuteTime": {
     "start_time": "2024-06-20T20:33:57.828146800Z"
    }
   },
   "id": "2037a4c1fc57e425"
  },
  {
   "cell_type": "code",
   "execution_count": null,
   "outputs": [],
   "source": [
    "df.pclass.value_counts()"
   ],
   "metadata": {
    "collapsed": false,
    "ExecuteTime": {
     "start_time": "2024-06-20T20:33:57.830147800Z"
    }
   },
   "id": "471b5a0f7bd3419d"
  },
  {
   "cell_type": "code",
   "execution_count": null,
   "outputs": [],
   "source": [
    "missing_values = df.isnull().sum()\n",
    "missing_values"
   ],
   "metadata": {
    "collapsed": false,
    "ExecuteTime": {
     "start_time": "2024-06-20T20:33:57.833148Z"
    }
   },
   "id": "269ead4df872e9a4"
  },
  {
   "cell_type": "markdown",
   "source": [
    "we can drop missing values:\n",
    "dropped_df = df.dropna()\n",
    "\n",
    "#instead fill missing values with mean, this is better practice than dropping missing values"
   ],
   "metadata": {
    "collapsed": false
   },
   "id": "4ff9b4c86f1bf1e0"
  },
  {
   "cell_type": "code",
   "execution_count": 95,
   "outputs": [
    {
     "name": "stderr",
     "output_type": "stream",
     "text": [
      "C:\\Users\\Peter\\AppData\\Local\\Temp\\ipykernel_15716\\4255040007.py:1: FutureWarning: A value is trying to be set on a copy of a DataFrame or Series through chained assignment using an inplace method.\n",
      "The behavior will change in pandas 3.0. This inplace method will never work because the intermediate object on which we are setting values always behaves as a copy.\n",
      "\n",
      "For example, when doing 'df[col].method(value, inplace=True)', try using 'df.method({col: value}, inplace=True)' or df[col] = df[col].method(value) instead, to perform the operation inplace on the original object.\n",
      "\n",
      "\n",
      "  df['age'].fillna(df['age'].mean(), inplace=True)\n"
     ]
    }
   ],
   "source": [
    "df['age'].fillna(df['age'].mean(), inplace=True)"
   ],
   "metadata": {
    "collapsed": false,
    "ExecuteTime": {
     "end_time": "2024-06-20T20:34:17.892028600Z",
     "start_time": "2024-06-20T20:34:17.852717200Z"
    }
   },
   "id": "5bf930e62dc52be0"
  },
  {
   "cell_type": "code",
   "execution_count": 96,
   "outputs": [],
   "source": [
    "df['sex'] = df['sex'].replace({'f' : 'female', \"F\" : 'female'})"
   ],
   "metadata": {
    "collapsed": false,
    "ExecuteTime": {
     "end_time": "2024-06-20T20:34:20.968883Z",
     "start_time": "2024-06-20T20:34:20.938688800Z"
    }
   },
   "id": "c9a40073228e74c9"
  },
  {
   "cell_type": "code",
   "execution_count": 97,
   "outputs": [
    {
     "data": {
      "text/plain": "count    1308.000000\nmean       33.295479\nstd        51.758668\nmin         0.000000\n25%         7.895800\n50%        14.454200\n75%        31.275000\nmax       512.329200\nName: fare, dtype: float64"
     },
     "execution_count": 97,
     "metadata": {},
     "output_type": "execute_result"
    }
   ],
   "source": [
    "df.fare.describe()"
   ],
   "metadata": {
    "collapsed": false,
    "ExecuteTime": {
     "end_time": "2024-06-20T20:34:21.700400800Z",
     "start_time": "2024-06-20T20:34:21.665272700Z"
    }
   },
   "id": "8c39fc2d5e75f100"
  },
  {
   "cell_type": "code",
   "execution_count": 98,
   "outputs": [
    {
     "data": {
      "text/plain": "count    9.570000e+02\nmean     2.490391e+05\nstd      4.426853e+05\nmin      6.800000e+02\n25%      1.995000e+04\n50%      2.346040e+05\n75%      3.474680e+05\nmax      3.101298e+06\nName: ticket, dtype: float64"
     },
     "execution_count": 98,
     "metadata": {},
     "output_type": "execute_result"
    }
   ],
   "source": [
    "df.ticket.describe()"
   ],
   "metadata": {
    "collapsed": false,
    "ExecuteTime": {
     "end_time": "2024-06-20T20:34:22.252134500Z",
     "start_time": "2024-06-20T20:34:22.212147300Z"
    }
   },
   "id": "bef8f757005dae93"
  },
  {
   "cell_type": "code",
   "execution_count": 99,
   "outputs": [
    {
     "data": {
      "text/plain": "np.float64(nan)"
     },
     "execution_count": 99,
     "metadata": {},
     "output_type": "execute_result"
    }
   ],
   "source": [
    "df.ticket[9]"
   ],
   "metadata": {
    "collapsed": false,
    "ExecuteTime": {
     "end_time": "2024-06-20T20:34:23.101066900Z",
     "start_time": "2024-06-20T20:34:23.069686300Z"
    }
   },
   "id": "fc12fcd260743bd6"
  },
  {
   "cell_type": "code",
   "execution_count": 100,
   "outputs": [],
   "source": [
    "df.ticket = pd.to_numeric(df.ticket, errors=\"coerce\")"
   ],
   "metadata": {
    "collapsed": false,
    "ExecuteTime": {
     "end_time": "2024-06-20T20:34:24.242766500Z",
     "start_time": "2024-06-20T20:34:24.213114500Z"
    }
   },
   "id": "fc3c04113c8214ef"
  },
  {
   "cell_type": "code",
   "execution_count": 101,
   "outputs": [
    {
     "data": {
      "text/plain": "np.float64(nan)"
     },
     "execution_count": 101,
     "metadata": {},
     "output_type": "execute_result"
    }
   ],
   "source": [
    "df.ticket[9]"
   ],
   "metadata": {
    "collapsed": false,
    "ExecuteTime": {
     "end_time": "2024-06-20T20:34:25.640930600Z",
     "start_time": "2024-06-20T20:34:25.605262900Z"
    }
   },
   "id": "e6173ed1613acf59"
  },
  {
   "cell_type": "code",
   "execution_count": 102,
   "outputs": [
    {
     "data": {
      "text/plain": "49"
     },
     "execution_count": 102,
     "metadata": {},
     "output_type": "execute_result"
    }
   ],
   "source": [
    "df.fare.idxmax()"
   ],
   "metadata": {
    "collapsed": false,
    "ExecuteTime": {
     "end_time": "2024-06-20T20:34:39.123932200Z",
     "start_time": "2024-06-20T20:34:39.031348500Z"
    }
   },
   "id": "91671bacaf1bac06"
  },
  {
   "cell_type": "code",
   "execution_count": 104,
   "outputs": [
    {
     "data": {
      "text/plain": "np.float64(2678.959737892891)"
     },
     "execution_count": 104,
     "metadata": {},
     "output_type": "execute_result"
    }
   ],
   "source": [
    "df.fare.var()"
   ],
   "metadata": {
    "collapsed": false,
    "ExecuteTime": {
     "end_time": "2024-06-20T20:35:01.810170800Z",
     "start_time": "2024-06-20T20:35:01.774350800Z"
    }
   },
   "id": "1149a77d88eb6058"
  },
  {
   "cell_type": "code",
   "execution_count": 106,
   "outputs": [
    {
     "data": {
      "text/plain": "pclass                                                    1\nsurvived                                                  1\nname                     Cardeza, Mr. Thomas Drake Martinez\nsex                                                    male\nage                                                    36.0\nparch                                                     1\nticket                                                  NaN\nfare                                               512.3292\ncabin                                           B51 B53 B55\nembarked                                                  C\nbody                                                    NaN\nhome.dest    Austria-Hungary / Germantown, Philadelphia, PA\nName: 49, dtype: object"
     },
     "execution_count": 106,
     "metadata": {},
     "output_type": "execute_result"
    }
   ],
   "source": [
    "df.loc[df.fare.idxmax()]"
   ],
   "metadata": {
    "collapsed": false,
    "ExecuteTime": {
     "end_time": "2024-06-20T20:35:43.735063200Z",
     "start_time": "2024-06-20T20:35:43.699237500Z"
    }
   },
   "id": "30d57096d3d64802"
  },
  {
   "cell_type": "code",
   "execution_count": 107,
   "outputs": [
    {
     "data": {
      "text/plain": "pclass                                                    1\nsurvived                                                  1\nname                     Cardeza, Mr. Thomas Drake Martinez\nsex                                                    male\nage                                                    36.0\nparch                                                     1\nticket                                                  NaN\nfare                                               512.3292\ncabin                                           B51 B53 B55\nembarked                                                  C\nbody                                                    NaN\nhome.dest    Austria-Hungary / Germantown, Philadelphia, PA\nName: 49, dtype: object"
     },
     "execution_count": 107,
     "metadata": {},
     "output_type": "execute_result"
    }
   ],
   "source": [
    "df.iloc[49]"
   ],
   "metadata": {
    "collapsed": false,
    "ExecuteTime": {
     "end_time": "2024-06-20T20:36:23.601409400Z",
     "start_time": "2024-06-20T20:36:23.516534300Z"
    }
   },
   "id": "ce2aab07fd81afe3"
  },
  {
   "cell_type": "code",
   "execution_count": 109,
   "outputs": [
    {
     "data": {
      "text/plain": "np.float64(263.0)"
     },
     "execution_count": 109,
     "metadata": {},
     "output_type": "execute_result"
    }
   ],
   "source": [
    "fare_10k = df.fare.replace(df.fare.max(), 0)\n",
    "fare_10k.max()"
   ],
   "metadata": {
    "collapsed": false,
    "ExecuteTime": {
     "end_time": "2024-06-20T20:39:54.680081700Z",
     "start_time": "2024-06-20T20:39:54.646956800Z"
    }
   },
   "id": "928d1ed0e400e44c"
  },
  {
   "cell_type": "code",
   "execution_count": 112,
   "outputs": [],
   "source": [
    "import numpy as np\n",
    "z_scores = np.abs((df['fare'] - df['fare'].mean()) / df['fare'].std())\n",
    "outliers = z_scores > 3"
   ],
   "metadata": {
    "collapsed": false,
    "ExecuteTime": {
     "end_time": "2024-06-20T20:42:53.314476Z",
     "start_time": "2024-06-20T20:42:53.273305400Z"
    }
   },
   "id": "99c1de8ace290ff6"
  },
  {
   "cell_type": "code",
   "execution_count": 113,
   "outputs": [
    {
     "data": {
      "text/plain": "      pclass  survived                                             name  \\\n1          1         1                   Allison, Master. Hudson Trevor   \n2          1         0                     Allison, Miss. Helen Loraine   \n3          1         0             Allison, Mr. Hudson Joshua Creighton   \n4          1         0  Allison, Mrs. Hudson J C (Bessie Waldo Daniels)   \n5          1         1                              Anderson, Mr. Harry   \n...      ...       ...                                              ...   \n1304       3         0                             Zabour, Miss. Hileni   \n1305       3         0                            Zabour, Miss. Thamine   \n1306       3         0                        Zakarian, Mr. Mapriededer   \n1307       3         0                              Zakarian, Mr. Ortin   \n1308       3         0                               Zimmerman, Mr. Leo   \n\n         sex        age  parch    ticket      fare    cabin embarked   body  \\\n1       male   0.920000      2  113781.0  151.5500  C22 C26        S    NaN   \n2     female   2.000000      2  113781.0  151.5500  C22 C26        S    NaN   \n3       male  30.000000      2  113781.0  151.5500  C22 C26        S  135.0   \n4     female  25.000000      2  113781.0  151.5500  C22 C26        S    NaN   \n5       male  48.000000      0   19952.0   26.5500      E12        S    NaN   \n...      ...        ...    ...       ...       ...      ...      ...    ...   \n1304  female  14.500000      0    2665.0   14.4542      NaN        C  328.0   \n1305  female  29.881138      0    2665.0   14.4542      NaN        C    NaN   \n1306    male  26.500000      0    2656.0    7.2250      NaN        C  304.0   \n1307    male  27.000000      0    2670.0    7.2250      NaN        C    NaN   \n1308    male  29.000000      0  315082.0    7.8750      NaN        S    NaN   \n\n                            home.dest  \n1     Montreal, PQ / Chesterville, ON  \n2     Montreal, PQ / Chesterville, ON  \n3     Montreal, PQ / Chesterville, ON  \n4     Montreal, PQ / Chesterville, ON  \n5                        New York, NY  \n...                               ...  \n1304                              NaN  \n1305                              NaN  \n1306                              NaN  \n1307                              NaN  \n1308                              NaN  \n\n[1271 rows x 12 columns]",
      "text/html": "<div>\n<style scoped>\n    .dataframe tbody tr th:only-of-type {\n        vertical-align: middle;\n    }\n\n    .dataframe tbody tr th {\n        vertical-align: top;\n    }\n\n    .dataframe thead th {\n        text-align: right;\n    }\n</style>\n<table border=\"1\" class=\"dataframe\">\n  <thead>\n    <tr style=\"text-align: right;\">\n      <th></th>\n      <th>pclass</th>\n      <th>survived</th>\n      <th>name</th>\n      <th>sex</th>\n      <th>age</th>\n      <th>parch</th>\n      <th>ticket</th>\n      <th>fare</th>\n      <th>cabin</th>\n      <th>embarked</th>\n      <th>body</th>\n      <th>home.dest</th>\n    </tr>\n  </thead>\n  <tbody>\n    <tr>\n      <th>1</th>\n      <td>1</td>\n      <td>1</td>\n      <td>Allison, Master. Hudson Trevor</td>\n      <td>male</td>\n      <td>0.920000</td>\n      <td>2</td>\n      <td>113781.0</td>\n      <td>151.5500</td>\n      <td>C22 C26</td>\n      <td>S</td>\n      <td>NaN</td>\n      <td>Montreal, PQ / Chesterville, ON</td>\n    </tr>\n    <tr>\n      <th>2</th>\n      <td>1</td>\n      <td>0</td>\n      <td>Allison, Miss. Helen Loraine</td>\n      <td>female</td>\n      <td>2.000000</td>\n      <td>2</td>\n      <td>113781.0</td>\n      <td>151.5500</td>\n      <td>C22 C26</td>\n      <td>S</td>\n      <td>NaN</td>\n      <td>Montreal, PQ / Chesterville, ON</td>\n    </tr>\n    <tr>\n      <th>3</th>\n      <td>1</td>\n      <td>0</td>\n      <td>Allison, Mr. Hudson Joshua Creighton</td>\n      <td>male</td>\n      <td>30.000000</td>\n      <td>2</td>\n      <td>113781.0</td>\n      <td>151.5500</td>\n      <td>C22 C26</td>\n      <td>S</td>\n      <td>135.0</td>\n      <td>Montreal, PQ / Chesterville, ON</td>\n    </tr>\n    <tr>\n      <th>4</th>\n      <td>1</td>\n      <td>0</td>\n      <td>Allison, Mrs. Hudson J C (Bessie Waldo Daniels)</td>\n      <td>female</td>\n      <td>25.000000</td>\n      <td>2</td>\n      <td>113781.0</td>\n      <td>151.5500</td>\n      <td>C22 C26</td>\n      <td>S</td>\n      <td>NaN</td>\n      <td>Montreal, PQ / Chesterville, ON</td>\n    </tr>\n    <tr>\n      <th>5</th>\n      <td>1</td>\n      <td>1</td>\n      <td>Anderson, Mr. Harry</td>\n      <td>male</td>\n      <td>48.000000</td>\n      <td>0</td>\n      <td>19952.0</td>\n      <td>26.5500</td>\n      <td>E12</td>\n      <td>S</td>\n      <td>NaN</td>\n      <td>New York, NY</td>\n    </tr>\n    <tr>\n      <th>...</th>\n      <td>...</td>\n      <td>...</td>\n      <td>...</td>\n      <td>...</td>\n      <td>...</td>\n      <td>...</td>\n      <td>...</td>\n      <td>...</td>\n      <td>...</td>\n      <td>...</td>\n      <td>...</td>\n      <td>...</td>\n    </tr>\n    <tr>\n      <th>1304</th>\n      <td>3</td>\n      <td>0</td>\n      <td>Zabour, Miss. Hileni</td>\n      <td>female</td>\n      <td>14.500000</td>\n      <td>0</td>\n      <td>2665.0</td>\n      <td>14.4542</td>\n      <td>NaN</td>\n      <td>C</td>\n      <td>328.0</td>\n      <td>NaN</td>\n    </tr>\n    <tr>\n      <th>1305</th>\n      <td>3</td>\n      <td>0</td>\n      <td>Zabour, Miss. Thamine</td>\n      <td>female</td>\n      <td>29.881138</td>\n      <td>0</td>\n      <td>2665.0</td>\n      <td>14.4542</td>\n      <td>NaN</td>\n      <td>C</td>\n      <td>NaN</td>\n      <td>NaN</td>\n    </tr>\n    <tr>\n      <th>1306</th>\n      <td>3</td>\n      <td>0</td>\n      <td>Zakarian, Mr. Mapriededer</td>\n      <td>male</td>\n      <td>26.500000</td>\n      <td>0</td>\n      <td>2656.0</td>\n      <td>7.2250</td>\n      <td>NaN</td>\n      <td>C</td>\n      <td>304.0</td>\n      <td>NaN</td>\n    </tr>\n    <tr>\n      <th>1307</th>\n      <td>3</td>\n      <td>0</td>\n      <td>Zakarian, Mr. Ortin</td>\n      <td>male</td>\n      <td>27.000000</td>\n      <td>0</td>\n      <td>2670.0</td>\n      <td>7.2250</td>\n      <td>NaN</td>\n      <td>C</td>\n      <td>NaN</td>\n      <td>NaN</td>\n    </tr>\n    <tr>\n      <th>1308</th>\n      <td>3</td>\n      <td>0</td>\n      <td>Zimmerman, Mr. Leo</td>\n      <td>male</td>\n      <td>29.000000</td>\n      <td>0</td>\n      <td>315082.0</td>\n      <td>7.8750</td>\n      <td>NaN</td>\n      <td>S</td>\n      <td>NaN</td>\n      <td>NaN</td>\n    </tr>\n  </tbody>\n</table>\n<p>1271 rows × 12 columns</p>\n</div>"
     },
     "execution_count": 113,
     "metadata": {},
     "output_type": "execute_result"
    }
   ],
   "source": [
    "data_frame = df[~outliers]\n",
    "data_frame"
   ],
   "metadata": {
    "collapsed": false,
    "ExecuteTime": {
     "end_time": "2024-06-20T20:43:22.013798Z",
     "start_time": "2024-06-20T20:43:21.899935800Z"
    }
   },
   "id": "a39f810610ceb3da"
  },
  {
   "cell_type": "code",
   "execution_count": 115,
   "outputs": [
    {
     "data": {
      "text/plain": "      pclass  survived                                             name  \\\n0          1         1                    Allen, Miss. Elisabeth Walton   \n1          1         1                   Allison, Master. Hudson Trevor   \n2          1         0                     Allison, Miss. Helen Loraine   \n3          1         0             Allison, Mr. Hudson Joshua Creighton   \n4          1         0  Allison, Mrs. Hudson J C (Bessie Waldo Daniels)   \n...      ...       ...                                              ...   \n1304       3         0                             Zabour, Miss. Hileni   \n1305       3         0                            Zabour, Miss. Thamine   \n1306       3         0                        Zakarian, Mr. Mapriededer   \n1307       3         0                              Zakarian, Mr. Ortin   \n1308       3         0                               Zimmerman, Mr. Leo   \n\n         sex        age  parch    ticket      fare    cabin embarked   body  \\\n0     female  29.000000      0   24160.0  211.3375       B5        S    NaN   \n1       male   0.920000      2  113781.0  151.5500  C22 C26        S    NaN   \n2     female   2.000000      2  113781.0  151.5500  C22 C26        S    NaN   \n3       male  30.000000      2  113781.0  151.5500  C22 C26        S  135.0   \n4     female  25.000000      2  113781.0  151.5500  C22 C26        S    NaN   \n...      ...        ...    ...       ...       ...      ...      ...    ...   \n1304  female  14.500000      0    2665.0   14.4542      NaN        C  328.0   \n1305  female  29.881138      0    2665.0   14.4542      NaN        C    NaN   \n1306    male  26.500000      0    2656.0    7.2250      NaN        C  304.0   \n1307    male  27.000000      0    2670.0    7.2250      NaN        C    NaN   \n1308    male  29.000000      0  315082.0    7.8750      NaN        S    NaN   \n\n                            home.dest                              First name   \n0                        St Louis, MO                   Miss. Elisabeth Walton  \n1     Montreal, PQ / Chesterville, ON                    Master. Hudson Trevor  \n2     Montreal, PQ / Chesterville, ON                      Miss. Helen Loraine  \n3     Montreal, PQ / Chesterville, ON              Mr. Hudson Joshua Creighton  \n4     Montreal, PQ / Chesterville, ON   Mrs. Hudson J C (Bessie Waldo Daniels)  \n...                               ...                                      ...  \n1304                              NaN                             Miss. Hileni  \n1305                              NaN                            Miss. Thamine  \n1306                              NaN                          Mr. Mapriededer  \n1307                              NaN                                Mr. Ortin  \n1308                              NaN                                  Mr. Leo  \n\n[1309 rows x 13 columns]",
      "text/html": "<div>\n<style scoped>\n    .dataframe tbody tr th:only-of-type {\n        vertical-align: middle;\n    }\n\n    .dataframe tbody tr th {\n        vertical-align: top;\n    }\n\n    .dataframe thead th {\n        text-align: right;\n    }\n</style>\n<table border=\"1\" class=\"dataframe\">\n  <thead>\n    <tr style=\"text-align: right;\">\n      <th></th>\n      <th>pclass</th>\n      <th>survived</th>\n      <th>name</th>\n      <th>sex</th>\n      <th>age</th>\n      <th>parch</th>\n      <th>ticket</th>\n      <th>fare</th>\n      <th>cabin</th>\n      <th>embarked</th>\n      <th>body</th>\n      <th>home.dest</th>\n      <th>First name</th>\n    </tr>\n  </thead>\n  <tbody>\n    <tr>\n      <th>0</th>\n      <td>1</td>\n      <td>1</td>\n      <td>Allen, Miss. Elisabeth Walton</td>\n      <td>female</td>\n      <td>29.000000</td>\n      <td>0</td>\n      <td>24160.0</td>\n      <td>211.3375</td>\n      <td>B5</td>\n      <td>S</td>\n      <td>NaN</td>\n      <td>St Louis, MO</td>\n      <td>Miss. Elisabeth Walton</td>\n    </tr>\n    <tr>\n      <th>1</th>\n      <td>1</td>\n      <td>1</td>\n      <td>Allison, Master. Hudson Trevor</td>\n      <td>male</td>\n      <td>0.920000</td>\n      <td>2</td>\n      <td>113781.0</td>\n      <td>151.5500</td>\n      <td>C22 C26</td>\n      <td>S</td>\n      <td>NaN</td>\n      <td>Montreal, PQ / Chesterville, ON</td>\n      <td>Master. Hudson Trevor</td>\n    </tr>\n    <tr>\n      <th>2</th>\n      <td>1</td>\n      <td>0</td>\n      <td>Allison, Miss. Helen Loraine</td>\n      <td>female</td>\n      <td>2.000000</td>\n      <td>2</td>\n      <td>113781.0</td>\n      <td>151.5500</td>\n      <td>C22 C26</td>\n      <td>S</td>\n      <td>NaN</td>\n      <td>Montreal, PQ / Chesterville, ON</td>\n      <td>Miss. Helen Loraine</td>\n    </tr>\n    <tr>\n      <th>3</th>\n      <td>1</td>\n      <td>0</td>\n      <td>Allison, Mr. Hudson Joshua Creighton</td>\n      <td>male</td>\n      <td>30.000000</td>\n      <td>2</td>\n      <td>113781.0</td>\n      <td>151.5500</td>\n      <td>C22 C26</td>\n      <td>S</td>\n      <td>135.0</td>\n      <td>Montreal, PQ / Chesterville, ON</td>\n      <td>Mr. Hudson Joshua Creighton</td>\n    </tr>\n    <tr>\n      <th>4</th>\n      <td>1</td>\n      <td>0</td>\n      <td>Allison, Mrs. Hudson J C (Bessie Waldo Daniels)</td>\n      <td>female</td>\n      <td>25.000000</td>\n      <td>2</td>\n      <td>113781.0</td>\n      <td>151.5500</td>\n      <td>C22 C26</td>\n      <td>S</td>\n      <td>NaN</td>\n      <td>Montreal, PQ / Chesterville, ON</td>\n      <td>Mrs. Hudson J C (Bessie Waldo Daniels)</td>\n    </tr>\n    <tr>\n      <th>...</th>\n      <td>...</td>\n      <td>...</td>\n      <td>...</td>\n      <td>...</td>\n      <td>...</td>\n      <td>...</td>\n      <td>...</td>\n      <td>...</td>\n      <td>...</td>\n      <td>...</td>\n      <td>...</td>\n      <td>...</td>\n      <td>...</td>\n    </tr>\n    <tr>\n      <th>1304</th>\n      <td>3</td>\n      <td>0</td>\n      <td>Zabour, Miss. Hileni</td>\n      <td>female</td>\n      <td>14.500000</td>\n      <td>0</td>\n      <td>2665.0</td>\n      <td>14.4542</td>\n      <td>NaN</td>\n      <td>C</td>\n      <td>328.0</td>\n      <td>NaN</td>\n      <td>Miss. Hileni</td>\n    </tr>\n    <tr>\n      <th>1305</th>\n      <td>3</td>\n      <td>0</td>\n      <td>Zabour, Miss. Thamine</td>\n      <td>female</td>\n      <td>29.881138</td>\n      <td>0</td>\n      <td>2665.0</td>\n      <td>14.4542</td>\n      <td>NaN</td>\n      <td>C</td>\n      <td>NaN</td>\n      <td>NaN</td>\n      <td>Miss. Thamine</td>\n    </tr>\n    <tr>\n      <th>1306</th>\n      <td>3</td>\n      <td>0</td>\n      <td>Zakarian, Mr. Mapriededer</td>\n      <td>male</td>\n      <td>26.500000</td>\n      <td>0</td>\n      <td>2656.0</td>\n      <td>7.2250</td>\n      <td>NaN</td>\n      <td>C</td>\n      <td>304.0</td>\n      <td>NaN</td>\n      <td>Mr. Mapriededer</td>\n    </tr>\n    <tr>\n      <th>1307</th>\n      <td>3</td>\n      <td>0</td>\n      <td>Zakarian, Mr. Ortin</td>\n      <td>male</td>\n      <td>27.000000</td>\n      <td>0</td>\n      <td>2670.0</td>\n      <td>7.2250</td>\n      <td>NaN</td>\n      <td>C</td>\n      <td>NaN</td>\n      <td>NaN</td>\n      <td>Mr. Ortin</td>\n    </tr>\n    <tr>\n      <th>1308</th>\n      <td>3</td>\n      <td>0</td>\n      <td>Zimmerman, Mr. Leo</td>\n      <td>male</td>\n      <td>29.000000</td>\n      <td>0</td>\n      <td>315082.0</td>\n      <td>7.8750</td>\n      <td>NaN</td>\n      <td>S</td>\n      <td>NaN</td>\n      <td>NaN</td>\n      <td>Mr. Leo</td>\n    </tr>\n  </tbody>\n</table>\n<p>1309 rows × 13 columns</p>\n</div>"
     },
     "execution_count": 115,
     "metadata": {},
     "output_type": "execute_result"
    }
   ],
   "source": [
    "df_new = df.name.str.split(\",\", expand=True)\n",
    "df[\"First name \"] = df_new[1]\n",
    "df"
   ],
   "metadata": {
    "collapsed": false,
    "ExecuteTime": {
     "end_time": "2024-06-20T20:50:04.099626700Z",
     "start_time": "2024-06-20T20:50:04.031181100Z"
    }
   },
   "id": "5e816a48313f89e9"
  },
  {
   "cell_type": "code",
   "execution_count": 116,
   "outputs": [
    {
     "data": {
      "text/plain": "sex\nfemale    46.198097\nmale      26.154601\nName: fare, dtype: float64"
     },
     "execution_count": 116,
     "metadata": {},
     "output_type": "execute_result"
    }
   ],
   "source": [
    "df.groupby('sex')['fare'].mean()"
   ],
   "metadata": {
    "collapsed": false,
    "ExecuteTime": {
     "end_time": "2024-06-20T20:50:48.010346800Z",
     "start_time": "2024-06-20T20:50:47.925392600Z"
    }
   },
   "id": "c809707d7d6a40c0"
  },
  {
   "cell_type": "code",
   "execution_count": 117,
   "outputs": [
    {
     "data": {
      "text/plain": "sex\nfemale    339\nmale      161\nName: survived, dtype: int64"
     },
     "execution_count": 117,
     "metadata": {},
     "output_type": "execute_result"
    }
   ],
   "source": [
    "df.groupby('sex')['survived'].sum()"
   ],
   "metadata": {
    "collapsed": false,
    "ExecuteTime": {
     "end_time": "2024-06-20T20:55:33.845337300Z",
     "start_time": "2024-06-20T20:55:33.725193600Z"
    }
   },
   "id": "223fcb39043e122"
  },
  {
   "cell_type": "markdown",
   "source": [
    "Data Visualization\n",
    "- plotting"
   ],
   "metadata": {
    "collapsed": false
   },
   "id": "1368cf75c60ed836"
  },
  {
   "cell_type": "code",
   "execution_count": null,
   "outputs": [],
   "source": [],
   "metadata": {
    "collapsed": false
   },
   "id": "f6e44f9df40008d1"
  }
 ],
 "metadata": {
  "kernelspec": {
   "display_name": "Python 3",
   "language": "python",
   "name": "python3"
  },
  "language_info": {
   "codemirror_mode": {
    "name": "ipython",
    "version": 2
   },
   "file_extension": ".py",
   "mimetype": "text/x-python",
   "name": "python",
   "nbconvert_exporter": "python",
   "pygments_lexer": "ipython2",
   "version": "2.7.6"
  }
 },
 "nbformat": 4,
 "nbformat_minor": 5
}
