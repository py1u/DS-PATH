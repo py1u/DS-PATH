{
 "cells": [
  {
   "cell_type": "code",
   "execution_count": 1,
   "id": "initial_id",
   "metadata": {
    "collapsed": true,
    "ExecuteTime": {
     "end_time": "2024-06-20T17:26:13.459955500Z",
     "start_time": "2024-06-20T17:26:13.432508900Z"
    }
   },
   "outputs": [
    {
     "name": "stdout",
     "output_type": "stream",
     "text": [
      "hello world\n"
     ]
    }
   ],
   "source": [
    "print(\"hello world\")"
   ]
  },
  {
   "cell_type": "markdown",
   "source": [
    "Variables\n",
    "- int\n",
    "- float\n",
    "- string\n",
    "- boolean"
   ],
   "metadata": {
    "collapsed": false
   },
   "id": "dc13cf62ac912f6b"
  },
  {
   "cell_type": "code",
   "execution_count": 2,
   "outputs": [],
   "source": [
    "a = 2\n",
    "b = 4.5\n",
    "name = \"Peter\"\n",
    "flag = False"
   ],
   "metadata": {
    "collapsed": false,
    "ExecuteTime": {
     "end_time": "2024-06-20T17:28:14.900207600Z",
     "start_time": "2024-06-20T17:28:14.872670200Z"
    }
   },
   "id": "fe83eb61fa4ede32"
  },
  {
   "cell_type": "code",
   "execution_count": 4,
   "outputs": [
    {
     "data": {
      "text/plain": "str"
     },
     "execution_count": 4,
     "metadata": {},
     "output_type": "execute_result"
    }
   ],
   "source": [
    "type(a)\n",
    "a = \"ds\"\n",
    "type(a)"
   ],
   "metadata": {
    "collapsed": false,
    "ExecuteTime": {
     "end_time": "2024-06-20T17:28:40.985823900Z",
     "start_time": "2024-06-20T17:28:40.947368400Z"
    }
   },
   "id": "89e0e476da3dfda1"
  },
  {
   "cell_type": "markdown",
   "source": [
    "reading input from users\n",
    "- input(\"input goes here\")\n",
    "- reads in as a string"
   ],
   "metadata": {
    "collapsed": false
   },
   "id": "1f6ce5553d81f335"
  },
  {
   "cell_type": "code",
   "execution_count": 5,
   "outputs": [
    {
     "data": {
      "text/plain": "'21'"
     },
     "execution_count": 5,
     "metadata": {},
     "output_type": "execute_result"
    }
   ],
   "source": [
    "age_input = input(\"Enter your age: \")\n",
    "age_input"
   ],
   "metadata": {
    "collapsed": false,
    "ExecuteTime": {
     "end_time": "2024-06-20T17:32:56.107418900Z",
     "start_time": "2024-06-20T17:32:52.282404300Z"
    }
   },
   "id": "19dea3012aad712c"
  },
  {
   "cell_type": "markdown",
   "source": [
    "cast the string into a integer\n",
    "- int()\n",
    "- float()\n",
    "- str()"
   ],
   "metadata": {
    "collapsed": false
   },
   "id": "ae44404da7af9148"
  },
  {
   "cell_type": "code",
   "execution_count": 6,
   "outputs": [
    {
     "data": {
      "text/plain": "21"
     },
     "execution_count": 6,
     "metadata": {},
     "output_type": "execute_result"
    }
   ],
   "source": [
    "age_input = int(age_input)\n",
    "age_input"
   ],
   "metadata": {
    "collapsed": false,
    "ExecuteTime": {
     "end_time": "2024-06-20T17:34:24.853805700Z",
     "start_time": "2024-06-20T17:34:24.810167400Z"
    }
   },
   "id": "557dba1ed1f24077"
  },
  {
   "cell_type": "markdown",
   "source": [
    "Lists\n",
    "- a collection of items, array of objects\n",
    "- lists are postionally indexed or ordered\n",
    "- indexing starts from 0\n",
    "- types don't have to be the same"
   ],
   "metadata": {
    "collapsed": false
   },
   "id": "10df436260199dee"
  },
  {
   "cell_type": "code",
   "execution_count": 8,
   "outputs": [
    {
     "data": {
      "text/plain": "['Peter', 21, True]"
     },
     "execution_count": 8,
     "metadata": {},
     "output_type": "execute_result"
    }
   ],
   "source": [
    "myList = [\"Peter\", 21, True]\n",
    "myList"
   ],
   "metadata": {
    "collapsed": false,
    "ExecuteTime": {
     "end_time": "2024-06-20T17:36:33.199539600Z",
     "start_time": "2024-06-20T17:36:33.164277900Z"
    }
   },
   "id": "a785785c79cf474b"
  },
  {
   "cell_type": "code",
   "execution_count": 10,
   "outputs": [
    {
     "name": "stdout",
     "output_type": "stream",
     "text": [
      "Peter\n",
      "21\n",
      "True\n"
     ]
    }
   ],
   "source": [
    "print(myList[0])\n",
    "print(myList[1])\n",
    "print(myList[2])"
   ],
   "metadata": {
    "collapsed": false,
    "ExecuteTime": {
     "end_time": "2024-06-20T17:37:50.931173200Z",
     "start_time": "2024-06-20T17:37:50.890312100Z"
    }
   },
   "id": "57fd20b535c84b76"
  },
  {
   "cell_type": "markdown",
   "source": [
    "List slicing\n",
    "- access a start and end point\n",
    "- Listname[start:end]\n",
    "- does not include the end\n",
    "- input: [0:2]\n",
    "- out: ['Peter', 21] not including True\n",
    "- shorthand [:2], [2:], [:]"
   ],
   "metadata": {
    "collapsed": false
   },
   "id": "75c54cebc7544f4b"
  },
  {
   "cell_type": "code",
   "execution_count": 11,
   "outputs": [
    {
     "data": {
      "text/plain": "['Peter', 21]"
     },
     "execution_count": 11,
     "metadata": {},
     "output_type": "execute_result"
    }
   ],
   "source": [
    "myList[0:2]"
   ],
   "metadata": {
    "collapsed": false,
    "ExecuteTime": {
     "end_time": "2024-06-20T17:39:17.129037100Z",
     "start_time": "2024-06-20T17:39:17.089240100Z"
    }
   },
   "id": "e2a01d97157efeac"
  },
  {
   "cell_type": "markdown",
   "source": [
    "List length\n",
    "- len()"
   ],
   "metadata": {
    "collapsed": false
   },
   "id": "4447d2afa559127c"
  },
  {
   "cell_type": "code",
   "execution_count": 12,
   "outputs": [
    {
     "data": {
      "text/plain": "3"
     },
     "execution_count": 12,
     "metadata": {},
     "output_type": "execute_result"
    }
   ],
   "source": [
    "len(myList)"
   ],
   "metadata": {
    "collapsed": false,
    "ExecuteTime": {
     "end_time": "2024-06-20T17:40:42.569394500Z",
     "start_time": "2024-06-20T17:40:42.509514200Z"
    }
   },
   "id": "809cbe45c9e137e5"
  },
  {
   "cell_type": "markdown",
   "source": [
    "Dictionary\n",
    "- collection of key-value pairs\n",
    "- maps and saves pairs"
   ],
   "metadata": {
    "collapsed": false
   },
   "id": "2c924b937f47317"
  },
  {
   "cell_type": "code",
   "execution_count": 15,
   "outputs": [
    {
     "data": {
      "text/plain": "{'Alice': 100, 'Bob': 100, 'Charlie': 100}"
     },
     "execution_count": 15,
     "metadata": {},
     "output_type": "execute_result"
    }
   ],
   "source": [
    "grade = {'Alice' : 100,\n",
    "         'Bob' : 100,\n",
    "         'Charlie' : 100}\n",
    "grade"
   ],
   "metadata": {
    "collapsed": false,
    "ExecuteTime": {
     "end_time": "2024-06-20T17:42:39.965688400Z",
     "start_time": "2024-06-20T17:42:39.916965300Z"
    }
   },
   "id": "dab19707fe5e5602"
  },
  {
   "cell_type": "code",
   "execution_count": 17,
   "outputs": [
    {
     "data": {
      "text/plain": "dict_keys(['Alice', 'Bob', 'Charlie'])"
     },
     "execution_count": 17,
     "metadata": {},
     "output_type": "execute_result"
    }
   ],
   "source": [
    "grade.keys()"
   ],
   "metadata": {
    "collapsed": false,
    "ExecuteTime": {
     "end_time": "2024-06-20T17:43:25.431720500Z",
     "start_time": "2024-06-20T17:43:25.408943400Z"
    }
   },
   "id": "15925180bb38c812"
  },
  {
   "cell_type": "code",
   "execution_count": 18,
   "outputs": [
    {
     "data": {
      "text/plain": "dict_values([100, 100, 100])"
     },
     "execution_count": 18,
     "metadata": {},
     "output_type": "execute_result"
    }
   ],
   "source": [
    "grade.values()"
   ],
   "metadata": {
    "collapsed": false,
    "ExecuteTime": {
     "end_time": "2024-06-20T17:43:33.358950600Z",
     "start_time": "2024-06-20T17:43:33.327044100Z"
    }
   },
   "id": "1381d4f1be598a1a"
  },
  {
   "cell_type": "markdown",
   "source": [
    "accessing a value using a key"
   ],
   "metadata": {
    "collapsed": false
   },
   "id": "114df18f83f10774"
  },
  {
   "cell_type": "code",
   "execution_count": 19,
   "outputs": [
    {
     "data": {
      "text/plain": "100"
     },
     "execution_count": 19,
     "metadata": {},
     "output_type": "execute_result"
    }
   ],
   "source": [
    "alice_grade = grade['Alice']\n",
    "alice_grade"
   ],
   "metadata": {
    "collapsed": false,
    "ExecuteTime": {
     "end_time": "2024-06-20T17:44:29.491518800Z",
     "start_time": "2024-06-20T17:44:29.455066500Z"
    }
   },
   "id": "d372aec48cb626a7"
  },
  {
   "cell_type": "markdown",
   "source": [
    "adding to dictionary"
   ],
   "metadata": {
    "collapsed": false
   },
   "id": "42ad9412361c9944"
  },
  {
   "cell_type": "code",
   "execution_count": 20,
   "outputs": [],
   "source": [
    "grade['Sarah'] = 95\n",
    "grade['Tim'] = 'na'"
   ],
   "metadata": {
    "collapsed": false,
    "ExecuteTime": {
     "end_time": "2024-06-20T17:45:48.652459900Z",
     "start_time": "2024-06-20T17:45:48.620005300Z"
    }
   },
   "id": "85d62187f979ddce"
  },
  {
   "cell_type": "markdown",
   "source": [],
   "metadata": {
    "collapsed": false
   },
   "id": "2caaf10a7dbfb72a"
  },
  {
   "cell_type": "code",
   "execution_count": 21,
   "outputs": [
    {
     "data": {
      "text/plain": "{'Alice': 100, 'Bob': 100, 'Charlie': 100, 'Sarah': 95, 'Tim': 'na'}"
     },
     "execution_count": 21,
     "metadata": {},
     "output_type": "execute_result"
    }
   ],
   "source": [
    "grade"
   ],
   "metadata": {
    "collapsed": false,
    "ExecuteTime": {
     "end_time": "2024-06-20T17:45:51.362776700Z",
     "start_time": "2024-06-20T17:45:51.320986300Z"
    }
   },
   "id": "b37a6a6191fc649e"
  },
  {
   "cell_type": "markdown",
   "source": [
    "Conditionals\n",
    "-if, elif, else\n",
    "-indentation and blank space matters in python"
   ],
   "metadata": {
    "collapsed": false
   },
   "id": "8017d15d9e3de4f2"
  },
  {
   "cell_type": "code",
   "execution_count": 24,
   "outputs": [
    {
     "name": "stdout",
     "output_type": "stream",
     "text": [
      "perfect score\n",
      "not perfect score\n"
     ]
    }
   ],
   "source": [
    "if grade['Bob'] == 100:\n",
    "    print(\"perfect score\")\n",
    "    \n",
    "grade['Sarah'] = 90\n",
    "grade\n",
    "\n",
    "if grade['Sarah'] == 100:\n",
    "    print(\"perfect score\")\n",
    "elif grade['Sarah'] == 90:\n",
    "    print(\"not perfect score\")\n",
    "else:\n",
    "    print(\"no score\")"
   ],
   "metadata": {
    "collapsed": false,
    "ExecuteTime": {
     "end_time": "2024-06-20T17:56:38.359276800Z",
     "start_time": "2024-06-20T17:56:38.339034400Z"
    }
   },
   "id": "51bae16e2c396d36"
  },
  {
   "cell_type": "markdown",
   "source": [
    "Loops\n",
    "- while and for loops\n",
    "- while loops as long as the condition is met\n",
    "- for loops are finite range defined"
   ],
   "metadata": {
    "collapsed": false
   },
   "id": "f4b166fcadc69a95"
  },
  {
   "cell_type": "code",
   "execution_count": 30,
   "outputs": [
    {
     "name": "stdout",
     "output_type": "stream",
     "text": [
      "1\n",
      "2\n",
      "3\n",
      "4\n",
      "5\n"
     ]
    }
   ],
   "source": [
    "limit = 5\n",
    "i = 1\n",
    "while i <= limit:\n",
    "    print(i)\n",
    "    i += 1"
   ],
   "metadata": {
    "collapsed": false,
    "ExecuteTime": {
     "end_time": "2024-06-20T17:59:04.831050400Z",
     "start_time": "2024-06-20T17:59:04.811317300Z"
    }
   },
   "id": "a2917f817501c954"
  },
  {
   "cell_type": "code",
   "execution_count": 32,
   "outputs": [
    {
     "name": "stdout",
     "output_type": "stream",
     "text": [
      "quit\n"
     ]
    }
   ],
   "source": [
    "user_input = input()\n",
    "while user_input != \"quit\":\n",
    "    user_input = input()\n",
    "print(user_input)"
   ],
   "metadata": {
    "collapsed": false,
    "ExecuteTime": {
     "end_time": "2024-06-20T18:00:08.127393900Z",
     "start_time": "2024-06-20T18:00:03.819645Z"
    }
   },
   "id": "c2001d55b0aa004d"
  },
  {
   "cell_type": "markdown",
   "source": [
    "range() defines a including, not including range"
   ],
   "metadata": {
    "collapsed": false
   },
   "id": "a8244e071c867b1f"
  },
  {
   "cell_type": "code",
   "execution_count": 34,
   "outputs": [
    {
     "name": "stdout",
     "output_type": "stream",
     "text": [
      "0\n",
      "1\n",
      "2\n",
      "3\n",
      "4\n",
      "5\n",
      "6\n",
      "7\n",
      "8\n",
      "9\n"
     ]
    }
   ],
   "source": [
    "for i in range(0,10):\n",
    "    print(i)"
   ],
   "metadata": {
    "collapsed": false,
    "ExecuteTime": {
     "end_time": "2024-06-20T18:01:47.671498200Z",
     "start_time": "2024-06-20T18:01:47.649513600Z"
    }
   },
   "id": "39ec53fe7323b570"
  },
  {
   "cell_type": "code",
   "execution_count": 35,
   "outputs": [
    {
     "data": {
      "text/plain": "[0, 1, 2, 3, 4, 5, 6, 7, 8, 9]"
     },
     "execution_count": 35,
     "metadata": {},
     "output_type": "execute_result"
    }
   ],
   "source": [
    "list(range(0,10))\n"
   ],
   "metadata": {
    "collapsed": false,
    "ExecuteTime": {
     "end_time": "2024-06-20T18:01:50.939239800Z",
     "start_time": "2024-06-20T18:01:50.877689500Z"
    }
   },
   "id": "56b62f8953fb7fd8"
  },
  {
   "cell_type": "code",
   "execution_count": 36,
   "outputs": [
    {
     "data": {
      "text/plain": "[0, 2, 4, 6, 8]"
     },
     "execution_count": 36,
     "metadata": {},
     "output_type": "execute_result"
    }
   ],
   "source": [
    "list(range(0,10,2))\n"
   ],
   "metadata": {
    "collapsed": false,
    "ExecuteTime": {
     "end_time": "2024-06-20T18:02:28.286109900Z",
     "start_time": "2024-06-20T18:02:28.232720300Z"
    }
   },
   "id": "2da1ca222e3b27dd"
  },
  {
   "cell_type": "code",
   "execution_count": 37,
   "outputs": [
    {
     "data": {
      "text/plain": "[3, 2, 1]"
     },
     "execution_count": 37,
     "metadata": {},
     "output_type": "execute_result"
    }
   ],
   "source": [
    "list(range(3,0,-1))\n"
   ],
   "metadata": {
    "collapsed": false,
    "ExecuteTime": {
     "end_time": "2024-06-20T18:02:41.282852300Z",
     "start_time": "2024-06-20T18:02:41.245082400Z"
    }
   },
   "id": "aafb1c135c91335"
  },
  {
   "cell_type": "markdown",
   "source": [
    "- looping dictionaries by default are displaying the keys"
   ],
   "metadata": {
    "collapsed": false
   },
   "id": "6cfa8f25e2e7147"
  },
  {
   "cell_type": "code",
   "execution_count": 42,
   "outputs": [
    {
     "name": "stdout",
     "output_type": "stream",
     "text": [
      "Alice\n",
      "Bob\n",
      "Charlie\n",
      "Sarah\n",
      "Tim\n"
     ]
    }
   ],
   "source": [
    "for value in grade:\n",
    "    print(value)"
   ],
   "metadata": {
    "collapsed": false,
    "ExecuteTime": {
     "end_time": "2024-06-20T18:07:51.481441700Z",
     "start_time": "2024-06-20T18:07:51.457703100Z"
    }
   },
   "id": "63883c0fd0782521"
  },
  {
   "cell_type": "code",
   "execution_count": 46,
   "outputs": [
    {
     "name": "stdout",
     "output_type": "stream",
     "text": [
      "100\n",
      "100\n",
      "100\n",
      "90\n",
      "na\n"
     ]
    }
   ],
   "source": [
    "for value in grade:\n",
    "    print(str(grade[value]))"
   ],
   "metadata": {
    "collapsed": false,
    "ExecuteTime": {
     "end_time": "2024-06-20T18:11:12.383442100Z",
     "start_time": "2024-06-20T18:11:12.359622300Z"
    }
   },
   "id": "881a3b7741c3ea9b"
  },
  {
   "cell_type": "markdown",
   "source": [
    "functions\n",
    "- block of code that performs a specific task\n",
    "- can we called many times so we dont have to write code again\n",
    "- \n",
    "- def functionName (param1, param2, ..):\n",
    "    statement\n",
    "    ...\n",
    "    return result"
   ],
   "metadata": {
    "collapsed": false
   },
   "id": "9fc94e08e7129bc3"
  },
  {
   "cell_type": "code",
   "execution_count": 51,
   "outputs": [
    {
     "data": {
      "text/plain": "'Hello Peter!'"
     },
     "execution_count": 51,
     "metadata": {},
     "output_type": "execute_result"
    }
   ],
   "source": [
    "# function declaration\n",
    "def greet(name):\n",
    "    return f\"Hello {name}!\"\n",
    "\n",
    "# function call\n",
    "name = input(\"What is your name?\")\n",
    "greet(name)"
   ],
   "metadata": {
    "collapsed": false,
    "ExecuteTime": {
     "end_time": "2024-06-20T18:32:33.385795900Z",
     "start_time": "2024-06-20T18:32:29.820398600Z"
    }
   },
   "id": "9549e22597983e11"
  },
  {
   "cell_type": "markdown",
   "source": [
    "- remember to use a return statement or a function will return none"
   ],
   "metadata": {
    "collapsed": false
   },
   "id": "9a0ecd110027a89f"
  },
  {
   "cell_type": "code",
   "execution_count": 55,
   "outputs": [],
   "source": [
    "def avg(a,b):\n",
    "    average = (a + b)/2\n",
    "    # return average"
   ],
   "metadata": {
    "collapsed": false,
    "ExecuteTime": {
     "end_time": "2024-06-20T18:33:43.373363400Z",
     "start_time": "2024-06-20T18:33:43.329404600Z"
    }
   },
   "id": "72fedc581ff5cc8c"
  },
  {
   "cell_type": "code",
   "execution_count": 56,
   "outputs": [],
   "source": [
    "avg(2,3)"
   ],
   "metadata": {
    "collapsed": false,
    "ExecuteTime": {
     "end_time": "2024-06-20T18:33:43.975719800Z",
     "start_time": "2024-06-20T18:33:43.969252600Z"
    }
   },
   "id": "595b3cb7b64597e8"
  },
  {
   "cell_type": "code",
   "execution_count": 57,
   "outputs": [
    {
     "name": "stdout",
     "output_type": "stream",
     "text": [
      "None\n"
     ]
    }
   ],
   "source": [
    "x = avg(4,5)\n",
    "print(x)"
   ],
   "metadata": {
    "collapsed": false,
    "ExecuteTime": {
     "end_time": "2024-06-20T18:33:48.843667300Z",
     "start_time": "2024-06-20T18:33:48.837542200Z"
    }
   },
   "id": "28f202a9b1ad89a3"
  },
  {
   "cell_type": "markdown",
   "source": [
    "- here is a correct example:"
   ],
   "metadata": {
    "collapsed": false
   },
   "id": "49fdca00cd210ba4"
  },
  {
   "cell_type": "code",
   "execution_count": null,
   "outputs": [],
   "source": [
    "def avg(a,b):\n",
    "    average = (a + b)/2\n",
    "    return average \n",
    "\n",
    "x = avg(80,95)\n",
    "if x > 90:\n",
    "    print(\"grade is A\")\n",
    "elif x > 80:\n",
    "    print(\"grade is B\")"
   ],
   "metadata": {
    "collapsed": false
   },
   "id": "10708cac5d9df362"
  },
  {
   "cell_type": "markdown",
   "source": [
    "Mini Project 1\n",
    "- Create a Calculator App using what we have learned with functions\n",
    "- "
   ],
   "metadata": {
    "collapsed": false
   },
   "id": "cd11605cb443f74d"
  },
  {
   "cell_type": "code",
   "execution_count": null,
   "outputs": [],
   "source": [],
   "metadata": {
    "collapsed": false
   },
   "id": "6be43d18ad74e0a2"
  },
  {
   "cell_type": "markdown",
   "source": [
    "Python and Data Science\n",
    "- using python and working with data\n",
    "- loading data, clean, summarize, visualize, transfer, explore\n"
   ],
   "metadata": {
    "collapsed": false
   },
   "id": "b24d78aa96306036"
  },
  {
   "cell_type": "markdown",
   "source": [
    "DataFrame\n",
    "- 2D labeled table \n",
    "- rows, columns\n",
    "- access and transform our data"
   ],
   "metadata": {
    "collapsed": false
   },
   "id": "b97cf646acb176ea"
  },
  {
   "cell_type": "code",
   "execution_count": 60,
   "outputs": [
    {
     "data": {
      "text/plain": "   pclass  survived                                             name     sex  \\\n0       1         1                    Allen, Miss. Elisabeth Walton  female   \n1       1         1                   Allison, Master. Hudson Trevor    male   \n2       1         0                     Allison, Miss. Helen Loraine  female   \n3       1         0             Allison, Mr. Hudson Joshua Creighton    male   \n4       1         0  Allison, Mrs. Hudson J C (Bessie Waldo Daniels)  female   \n\n     age  sibsp  parch  ticket      fare    cabin embarked boat   body  \\\n0  29.00      0      0   24160  211.3375       B5        S    2    NaN   \n1   0.92      1      2  113781  151.5500  C22 C26        S   11    NaN   \n2   2.00      1      2  113781  151.5500  C22 C26        S  NaN    NaN   \n3  30.00      1      2  113781  151.5500  C22 C26        S  NaN  135.0   \n4  25.00      1      2  113781  151.5500  C22 C26        S  NaN    NaN   \n\n                         home.dest  \n0                     St Louis, MO  \n1  Montreal, PQ / Chesterville, ON  \n2  Montreal, PQ / Chesterville, ON  \n3  Montreal, PQ / Chesterville, ON  \n4  Montreal, PQ / Chesterville, ON  ",
      "text/html": "<div>\n<style scoped>\n    .dataframe tbody tr th:only-of-type {\n        vertical-align: middle;\n    }\n\n    .dataframe tbody tr th {\n        vertical-align: top;\n    }\n\n    .dataframe thead th {\n        text-align: right;\n    }\n</style>\n<table border=\"1\" class=\"dataframe\">\n  <thead>\n    <tr style=\"text-align: right;\">\n      <th></th>\n      <th>pclass</th>\n      <th>survived</th>\n      <th>name</th>\n      <th>sex</th>\n      <th>age</th>\n      <th>sibsp</th>\n      <th>parch</th>\n      <th>ticket</th>\n      <th>fare</th>\n      <th>cabin</th>\n      <th>embarked</th>\n      <th>boat</th>\n      <th>body</th>\n      <th>home.dest</th>\n    </tr>\n  </thead>\n  <tbody>\n    <tr>\n      <th>0</th>\n      <td>1</td>\n      <td>1</td>\n      <td>Allen, Miss. Elisabeth Walton</td>\n      <td>female</td>\n      <td>29.00</td>\n      <td>0</td>\n      <td>0</td>\n      <td>24160</td>\n      <td>211.3375</td>\n      <td>B5</td>\n      <td>S</td>\n      <td>2</td>\n      <td>NaN</td>\n      <td>St Louis, MO</td>\n    </tr>\n    <tr>\n      <th>1</th>\n      <td>1</td>\n      <td>1</td>\n      <td>Allison, Master. Hudson Trevor</td>\n      <td>male</td>\n      <td>0.92</td>\n      <td>1</td>\n      <td>2</td>\n      <td>113781</td>\n      <td>151.5500</td>\n      <td>C22 C26</td>\n      <td>S</td>\n      <td>11</td>\n      <td>NaN</td>\n      <td>Montreal, PQ / Chesterville, ON</td>\n    </tr>\n    <tr>\n      <th>2</th>\n      <td>1</td>\n      <td>0</td>\n      <td>Allison, Miss. Helen Loraine</td>\n      <td>female</td>\n      <td>2.00</td>\n      <td>1</td>\n      <td>2</td>\n      <td>113781</td>\n      <td>151.5500</td>\n      <td>C22 C26</td>\n      <td>S</td>\n      <td>NaN</td>\n      <td>NaN</td>\n      <td>Montreal, PQ / Chesterville, ON</td>\n    </tr>\n    <tr>\n      <th>3</th>\n      <td>1</td>\n      <td>0</td>\n      <td>Allison, Mr. Hudson Joshua Creighton</td>\n      <td>male</td>\n      <td>30.00</td>\n      <td>1</td>\n      <td>2</td>\n      <td>113781</td>\n      <td>151.5500</td>\n      <td>C22 C26</td>\n      <td>S</td>\n      <td>NaN</td>\n      <td>135.0</td>\n      <td>Montreal, PQ / Chesterville, ON</td>\n    </tr>\n    <tr>\n      <th>4</th>\n      <td>1</td>\n      <td>0</td>\n      <td>Allison, Mrs. Hudson J C (Bessie Waldo Daniels)</td>\n      <td>female</td>\n      <td>25.00</td>\n      <td>1</td>\n      <td>2</td>\n      <td>113781</td>\n      <td>151.5500</td>\n      <td>C22 C26</td>\n      <td>S</td>\n      <td>NaN</td>\n      <td>NaN</td>\n      <td>Montreal, PQ / Chesterville, ON</td>\n    </tr>\n  </tbody>\n</table>\n</div>"
     },
     "execution_count": 60,
     "metadata": {},
     "output_type": "execute_result"
    }
   ],
   "source": [
    "import pandas as pd\n",
    "df = pd.read_csv('data/titanic.csv')\n",
    "df.head()"
   ],
   "metadata": {
    "collapsed": false,
    "ExecuteTime": {
     "end_time": "2024-06-20T18:54:37.547492500Z",
     "start_time": "2024-06-20T18:54:36.330937600Z"
    }
   },
   "id": "3884ca7ac3238e0f"
  },
  {
   "cell_type": "code",
   "execution_count": null,
   "outputs": [],
   "source": [],
   "metadata": {
    "collapsed": false
   },
   "id": "48cd69a90235f9e8"
  }
 ],
 "metadata": {
  "kernelspec": {
   "display_name": "Python 3",
   "language": "python",
   "name": "python3"
  },
  "language_info": {
   "codemirror_mode": {
    "name": "ipython",
    "version": 2
   },
   "file_extension": ".py",
   "mimetype": "text/x-python",
   "name": "python",
   "nbconvert_exporter": "python",
   "pygments_lexer": "ipython2",
   "version": "2.7.6"
  }
 },
 "nbformat": 4,
 "nbformat_minor": 5
}
