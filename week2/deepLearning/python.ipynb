{
 "cells": [
  {
   "cell_type": "markdown",
   "id": "050bbcb5-aca1-4133-8031-32eac0509715",
   "metadata": {},
   "source": [
    "## Getting Started with Jupyter and Python\n",
    "\n",
    "### Popularity Contest\n",
    "\n",
    "- 2017 [Top Programming Languages](https://people.duke.edu/~ccc14/sta-663-2018/notebooks/S00_Python.html)\n",
    "\n",
    "- March 2024 [TIOBE Index](https://www.tiobe.com/tiobe-index/)\n",
    "\n",
    "## Installation\n",
    "\n",
    "\n",
    "### Environment management\n",
    "\n",
    "- What are environments: a Python environment is a self-contained directory that contains a specific Python version and various packages.\n",
    "\n",
    "- Why it's crucial: different projects may require different versions of Python or libraries, and environments prevent conflicts between these requirements.\n",
    "\n",
    "###  `conda` for environment management\n",
    "\n",
    "- Download miniforge here, https://github.com/conda-forge/miniforge\n",
    "\n",
    "- open your terminal/command prompt"
   ]
  },
  {
   "cell_type": "raw",
   "id": "d422d820-1ec2-4125-9f1b-dba0e110d61e",
   "metadata": {},
   "source": [
    "conda create --name stat_207 python=3.10\n",
    "\n",
    "conda activate stat_207\n",
    "\n",
    "conda install numpy\n",
    "\n",
    "conda deactivate\n",
    "\n",
    "conda env remove --name myenv"
   ]
  },
  {
   "cell_type": "markdown",
   "id": "a22b4ead-e36b-413f-86b1-728bbf81656a",
   "metadata": {},
   "source": [
    "### Jupyter lab/notebook\n",
    "\n",
    "[website](https://jupyter.org/install)\n"
   ]
  },
  {
   "cell_type": "raw",
   "id": "88683c56-e8d8-4f72-b1fd-a2bc447a185c",
   "metadata": {},
   "source": [
    "conda install matplotlib\n",
    "conda install -c conda-forge jupyterlab"
   ]
  },
  {
   "cell_type": "markdown",
   "id": "8e7423db-9d78-4721-a978-0d8e9403d91e",
   "metadata": {},
   "source": [
    "Once installed, launch JupyterLab with:"
   ]
  },
  {
   "cell_type": "raw",
   "id": "e5b8d3f3-be51-46d2-876a-eb14efd1de34",
   "metadata": {},
   "source": [
    "jupyter lab"
   ]
  },
  {
   "cell_type": "markdown",
   "id": "42a96025-2897-4185-a80b-9bf6ce6b98e1",
   "metadata": {},
   "source": [
    "Install the classic Jupyter Notebook with:"
   ]
  },
  {
   "cell_type": "raw",
   "id": "f7b356ed-475f-47bc-b09f-6dc0a43f0618",
   "metadata": {},
   "source": [
    "conda install notebook"
   ]
  },
  {
   "cell_type": "markdown",
   "id": "5cb7945d-73f8-4ee2-a901-0795def5405a",
   "metadata": {},
   "source": [
    "To run the notebook:"
   ]
  },
  {
   "cell_type": "raw",
   "id": "d514ce92-5847-43e1-b1c0-cebfa26c3106",
   "metadata": {},
   "source": [
    "jupyter notebook"
   ]
  },
  {
   "cell_type": "markdown",
   "id": "e80e1100-d221-4c68-aaa7-5831690026e1",
   "metadata": {},
   "source": [
    "### (Optional) TensorFlow/PyTorch\n",
    "\n",
    "For deep learning and training deep neural networks, \n",
    "\n",
    "- [TensorFlow](https://www.tensorflow.org/install/pip)\n",
    "\n",
    "- [PyTorch](https://pytorch.org/get-started/locally/)\n",
    "\n",
    "\n",
    "\n",
    "Python IDEs for deep learning and data science\n",
    "\n",
    "- Jupyter Notebook/JupyterLab\n",
    "\n",
    "- PyCharm\n",
    "\n",
    "- Visual Studio Code (VS Code)\n",
    "\n",
    "- Spyder\n",
    "\n",
    "- Google Colab: https://colab.research.google.com/"
   ]
  }
 ],
 "metadata": {
  "kernelspec": {
   "display_name": "Python 3 (ipykernel)",
   "language": "python",
   "name": "python3"
  },
  "language_info": {
   "codemirror_mode": {
    "name": "ipython",
    "version": 3
   },
   "file_extension": ".py",
   "mimetype": "text/x-python",
   "name": "python",
   "nbconvert_exporter": "python",
   "pygments_lexer": "ipython3",
   "version": "3.10.8"
  }
 },
 "nbformat": 4,
 "nbformat_minor": 5
}
